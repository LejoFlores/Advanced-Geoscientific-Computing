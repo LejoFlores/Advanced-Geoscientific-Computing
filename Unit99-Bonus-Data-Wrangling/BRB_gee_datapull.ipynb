{
 "cells": [
  {
   "cell_type": "code",
   "execution_count": 1,
   "id": "ec41249f",
   "metadata": {},
   "outputs": [
    {
     "name": "stderr",
     "output_type": "stream",
     "text": [
      "/Users/lejoflores/GEOS-505-Fall2025/env/lib/python3.12/site-packages/geemap/conversion.py:23: UserWarning: pkg_resources is deprecated as an API. See https://setuptools.pypa.io/en/latest/pkg_resources.html. The pkg_resources package is slated for removal as early as 2025-11-30. Refrain from using this package or pin to Setuptools<81.\n",
      "  import pkg_resources\n"
     ]
    }
   ],
   "source": [
    "import ee\n",
    "import geemap\n",
    "\n",
    "# Initialize Earth Engine\n",
    "try:\n",
    "    ee.Initialize(project='ee-geos505-ubrb-prep')\n",
    "except Exception as e:\n",
    "    ee.Authenticate()\n",
    "    ee.Initialize(project='ee-geos505-ubrb-prep')\n",
    "    \n",
    "google_drive_path = '_ubrb_geos505'\n",
    "\n",
    "# Define the HUCs\n",
    "hucs = ['17050112', '17050111', '17050113']\n"
   ]
  },
  {
   "cell_type": "code",
   "execution_count": 2,
   "id": "7e46caf4",
   "metadata": {},
   "outputs": [
    {
     "data": {
      "text/html": [
       "\n",
       "            <style>\n",
       "                .geemap-dark {\n",
       "                    --jp-widgets-color: white;\n",
       "                    --jp-widgets-label-color: white;\n",
       "                    --jp-ui-font-color1: white;\n",
       "                    --jp-layout-color2: #454545;\n",
       "                    background-color: #383838;\n",
       "                }\n",
       "\n",
       "                .geemap-dark .jupyter-button {\n",
       "                    --jp-layout-color3: #383838;\n",
       "                }\n",
       "\n",
       "                .geemap-colab {\n",
       "                    background-color: var(--colab-primary-surface-color, white);\n",
       "                }\n",
       "\n",
       "                .geemap-colab .jupyter-button {\n",
       "                    --jp-layout-color3: var(--colab-primary-surface-color, white);\n",
       "                }\n",
       "            </style>\n",
       "            "
      ],
      "text/plain": [
       "<IPython.core.display.HTML object>"
      ]
     },
     "metadata": {},
     "output_type": "display_data"
    }
   ],
   "source": [
    "# Import the HUC dataset\n",
    "huc_dataset = ee.FeatureCollection('USGS/WBD/2017/HUC08')\n",
    "\n",
    "# Filter the HUC dataset to include the specified HUCs\n",
    "upper_boise_hucs = huc_dataset.filter(ee.Filter.inList('huc8', hucs))\n",
    "\n",
    "# Calculate the geometry that bounds all selected HUCs\n",
    "upper_boise_geometry = upper_boise_hucs.geometry().bounds()\n",
    "\n",
    "# Import the USGS NED dataset (30m DEM)\n",
    "dem = ee.Image('USGS/3DEP/10m')\n",
    "\n",
    "# Clip the DEM to the Upper Boise River basin boundary\n",
    "clipped_dem = dem.clip(upper_boise_geometry)"
   ]
  },
  {
   "cell_type": "code",
   "execution_count": 3,
   "id": "8bff6687",
   "metadata": {},
   "outputs": [
    {
     "data": {
      "text/html": [
       "\n",
       "            <style>\n",
       "                .geemap-dark {\n",
       "                    --jp-widgets-color: white;\n",
       "                    --jp-widgets-label-color: white;\n",
       "                    --jp-ui-font-color1: white;\n",
       "                    --jp-layout-color2: #454545;\n",
       "                    background-color: #383838;\n",
       "                }\n",
       "\n",
       "                .geemap-dark .jupyter-button {\n",
       "                    --jp-layout-color3: #383838;\n",
       "                }\n",
       "\n",
       "                .geemap-colab {\n",
       "                    background-color: var(--colab-primary-surface-color, white);\n",
       "                }\n",
       "\n",
       "                .geemap-colab .jupyter-button {\n",
       "                    --jp-layout-color3: var(--colab-primary-surface-color, white);\n",
       "                }\n",
       "            </style>\n",
       "            "
      ],
      "text/plain": [
       "<IPython.core.display.HTML object>"
      ]
     },
     "metadata": {},
     "output_type": "display_data"
    },
    {
     "name": "stdout",
     "output_type": "stream",
     "text": [
      "Export task started. Check your Google Drive for the results.\n"
     ]
    }
   ],
   "source": [
    "# Aggregate the DEM to a 30m spatial resolution using mean aggregation.\n",
    "# Note that this will require resampling which may introduce some error.\n",
    "aggregated_dem = clipped_dem.reduceResolution(\n",
    "    reducer=ee.Reducer.mean(),\n",
    "    maxPixels=1024\n",
    ").reproject(\n",
    "    crs=dem.projection().crs(),\n",
    "    scale=30\n",
    ")\n",
    "\n",
    "# Export the image to Google Drive\n",
    "task_config = {\n",
    "    'folder': google_drive_path,  # Replace with desired folder name\n",
    "    'region': upper_boise_geometry,\n",
    "    'scale': 30,\n",
    "    'fileFormat': 'GeoTIFF',\n",
    "    'fileNamePrefix': 'ubrb_dem_30m',\n",
    "    'maxPixels': 1e13  # Adjust as needed based on image size\n",
    "}\n",
    "\n",
    "task = ee.batch.Export.image.toDrive(aggregated_dem, **task_config)\n",
    "task.start()\n",
    "\n",
    "print('Export task started. Check your Google Drive for the results.')\n"
   ]
  },
  {
   "cell_type": "code",
   "execution_count": 4,
   "id": "7226ca11",
   "metadata": {},
   "outputs": [
    {
     "data": {
      "text/html": [
       "\n",
       "            <style>\n",
       "                .geemap-dark {\n",
       "                    --jp-widgets-color: white;\n",
       "                    --jp-widgets-label-color: white;\n",
       "                    --jp-ui-font-color1: white;\n",
       "                    --jp-layout-color2: #454545;\n",
       "                    background-color: #383838;\n",
       "                }\n",
       "\n",
       "                .geemap-dark .jupyter-button {\n",
       "                    --jp-layout-color3: #383838;\n",
       "                }\n",
       "\n",
       "                .geemap-colab {\n",
       "                    background-color: var(--colab-primary-surface-color, white);\n",
       "                }\n",
       "\n",
       "                .geemap-colab .jupyter-button {\n",
       "                    --jp-layout-color3: var(--colab-primary-surface-color, white);\n",
       "                }\n",
       "            </style>\n",
       "            "
      ],
      "text/plain": [
       "<IPython.core.display.HTML object>"
      ]
     },
     "metadata": {},
     "output_type": "display_data"
    },
    {
     "data": {
      "application/vnd.jupyter.widget-view+json": {
       "model_id": "13e2f3ab4cd746459901b9b1faf24090",
       "version_major": 2,
       "version_minor": 0
      },
      "text/plain": [
       "Map(center=[43.66201770206228, -115.36830839214619], controls=(WidgetControl(options=['position', 'transparent…"
      ]
     },
     "execution_count": 4,
     "metadata": {},
     "output_type": "execute_result"
    }
   ],
   "source": [
    "# Import the NLCD land cover dataset\n",
    "nlcd = ee.ImageCollection('USGS/NLCD_RELEASES/2019_REL/NLCD')\n",
    "\n",
    "# Filter the NLCD dataset to get the most recent image\n",
    "nlcd_image = nlcd.filterDate('2019-01-01', '2019-12-31').first()\n",
    "\n",
    "# Select the land cover band\n",
    "land_cover = nlcd_image.select('landcover')\n",
    "\n",
    "# Clip the land cover data to the upper Boise River basin boundary\n",
    "upper_boise_landcover = land_cover.clip(upper_boise_geometry)\n",
    "\n",
    "# Display the land cover map (optional)\n",
    "Map = geemap.Map()\n",
    "Map.centerObject(upper_boise_geometry, 10)\n",
    "Map.addLayer(upper_boise_landcover, {}, \"Land Cover\")\n",
    "Map\n"
   ]
  },
  {
   "cell_type": "code",
   "execution_count": 5,
   "id": "ab4478cb",
   "metadata": {},
   "outputs": [
    {
     "data": {
      "text/html": [
       "\n",
       "            <style>\n",
       "                .geemap-dark {\n",
       "                    --jp-widgets-color: white;\n",
       "                    --jp-widgets-label-color: white;\n",
       "                    --jp-ui-font-color1: white;\n",
       "                    --jp-layout-color2: #454545;\n",
       "                    background-color: #383838;\n",
       "                }\n",
       "\n",
       "                .geemap-dark .jupyter-button {\n",
       "                    --jp-layout-color3: #383838;\n",
       "                }\n",
       "\n",
       "                .geemap-colab {\n",
       "                    background-color: var(--colab-primary-surface-color, white);\n",
       "                }\n",
       "\n",
       "                .geemap-colab .jupyter-button {\n",
       "                    --jp-layout-color3: var(--colab-primary-surface-color, white);\n",
       "                }\n",
       "            </style>\n",
       "            "
      ],
      "text/plain": [
       "<IPython.core.display.HTML object>"
      ]
     },
     "metadata": {},
     "output_type": "display_data"
    },
    {
     "name": "stdout",
     "output_type": "stream",
     "text": [
      "Reprojected land cover export task started. Check your Google Drive for the results.\n"
     ]
    }
   ],
   "source": [
    "# Reproject the land cover to match the aggregated DEM\n",
    "reprojected_landcover = upper_boise_landcover.reproject(\n",
    "    crs=aggregated_dem.projection(),\n",
    "    scale=30\n",
    ")\n",
    "\n",
    "# Export the reprojected land cover to Google Drive\n",
    "task_config_reprojected_lc = {\n",
    "    'folder': google_drive_path,\n",
    "    'region': upper_boise_geometry,\n",
    "    'scale': 30,\n",
    "    'fileFormat': 'GeoTIFF',\n",
    "    'fileNamePrefix': 'upper_boise_landcover_30m',\n",
    "    'maxPixels': 1e13\n",
    "}\n",
    "\n",
    "task_reprojected_lc = ee.batch.Export.image.toDrive(reprojected_landcover, **task_config_reprojected_lc)\n",
    "task_reprojected_lc.start()\n",
    "\n",
    "print('Reprojected land cover export task started. Check your Google Drive for the results.')"
   ]
  },
  {
   "cell_type": "code",
   "execution_count": 6,
   "id": "c59910d4",
   "metadata": {},
   "outputs": [
    {
     "data": {
      "text/html": [
       "\n",
       "            <style>\n",
       "                .geemap-dark {\n",
       "                    --jp-widgets-color: white;\n",
       "                    --jp-widgets-label-color: white;\n",
       "                    --jp-ui-font-color1: white;\n",
       "                    --jp-layout-color2: #454545;\n",
       "                    background-color: #383838;\n",
       "                }\n",
       "\n",
       "                .geemap-dark .jupyter-button {\n",
       "                    --jp-layout-color3: #383838;\n",
       "                }\n",
       "\n",
       "                .geemap-colab {\n",
       "                    background-color: var(--colab-primary-surface-color, white);\n",
       "                }\n",
       "\n",
       "                .geemap-colab .jupyter-button {\n",
       "                    --jp-layout-color3: var(--colab-primary-surface-color, white);\n",
       "                }\n",
       "            </style>\n",
       "            "
      ],
      "text/plain": [
       "<IPython.core.display.HTML object>"
      ]
     },
     "metadata": {},
     "output_type": "display_data"
    },
    {
     "name": "stdout",
     "output_type": "stream",
     "text": [
      "Shapefile export task started. Check your Google Drive for the results.\n"
     ]
    }
   ],
   "source": [
    "# Export the geometry as a shapefile\n",
    "task_config_shapefile = {\n",
    "    'folder': google_drive_path,\n",
    "    'fileNamePrefix': 'upper_boise_geometry',\n",
    "    'fileFormat': 'SHP'\n",
    "}\n",
    "\n",
    "task_shapefile = ee.batch.Export.table.toDrive(upper_boise_hucs, **task_config_shapefile)\n",
    "task_shapefile.start()\n",
    "\n",
    "print('Shapefile export task started. Check your Google Drive for the results.')"
   ]
  },
  {
   "cell_type": "code",
   "execution_count": null,
   "id": "8e44ad07",
   "metadata": {},
   "outputs": [],
   "source": []
  }
 ],
 "metadata": {
  "kernelspec": {
   "display_name": "env",
   "language": "python",
   "name": "python3"
  },
  "language_info": {
   "codemirror_mode": {
    "name": "ipython",
    "version": 3
   },
   "file_extension": ".py",
   "mimetype": "text/x-python",
   "name": "python",
   "nbconvert_exporter": "python",
   "pygments_lexer": "ipython3",
   "version": "3.12.10"
  }
 },
 "nbformat": 4,
 "nbformat_minor": 5
}
