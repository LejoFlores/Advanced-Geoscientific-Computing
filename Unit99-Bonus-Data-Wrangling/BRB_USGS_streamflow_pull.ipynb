{
 "cells": [
  {
   "cell_type": "code",
   "execution_count": 1,
   "id": "f32a84e6",
   "metadata": {},
   "outputs": [],
   "source": [
    "import pandas as pd\n",
    "import numpy as np\n",
    "from dataretrieval import nwis\n",
    "\n",
    "## Set parameters needed to retrieve data\n",
    "startDate = '2016-10-01'\n",
    "endDate = '2017-09-30'\n",
    "parameterCode = '00060'\n",
    "\n",
    "##\n",
    "gages = ['13200000', # Mores Creek Above Robie Creek\n",
    "         '13185000', # Boise River Near Twin Springs\n",
    "         '13186000', # SF Boise River near Featherville \n",
    "         '13192200'  # SF Boise Near Arrowrock Dam\n",
    "         ]\n",
    "\n"
   ]
  },
  {
   "cell_type": "code",
   "execution_count": null,
   "id": "99fae289",
   "metadata": {},
   "outputs": [
    {
     "name": "stdout",
     "output_type": "stream",
     "text": [
      "Retrieved 365 data values for gage 13200000\n",
      "Retrieved 365 data values for gage 13185000\n",
      "Retrieved 365 data values for gage 13186000\n",
      "Retrieved 365 data values for gage 13192200\n"
     ]
    }
   ],
   "source": [
    "for gage in gages:\n",
    "    dailyStreamflow = nwis.get_dv(sites=gage, parameterCd=parameterCode, start=startDate, end=endDate)\n",
    "    print('Retrieved ' + str(len(dailyStreamflow[0])) + ' data values for gage ' + gage)\n",
    "    dt_output = dailyStreamflow[0].index\n",
    "    q_output = dailyStreamflow[0]['00060_Mean'].values\n",
    "    \n",
    "    output_data = {\n",
    "        'date': dt_output.strftime('%Y-%m-%d'),\n",
    "        'q_cfs': q_output\n",
    "    }\n",
    "    \n",
    "    df_out = pd.DataFrame(output_data)\n",
    "    df_out = df_out.set_index('date')\n",
    "    \n",
    "    outfile = '../Unit02-Visualization/Unit02-data/' + 'usgs_streamflow_' + gage + '_dv.csv'\n",
    "\n",
    "    df_out.to_csv(outfile)\n"
   ]
  },
  {
   "cell_type": "code",
   "execution_count": null,
   "id": "059ad5d8",
   "metadata": {},
   "outputs": [],
   "source": []
  }
 ],
 "metadata": {
  "kernelspec": {
   "display_name": "env",
   "language": "python",
   "name": "python3"
  },
  "language_info": {
   "codemirror_mode": {
    "name": "ipython",
    "version": 3
   },
   "file_extension": ".py",
   "mimetype": "text/x-python",
   "name": "python",
   "nbconvert_exporter": "python",
   "pygments_lexer": "ipython3",
   "version": "3.12.10"
  }
 },
 "nbformat": 4,
 "nbformat_minor": 5
}
