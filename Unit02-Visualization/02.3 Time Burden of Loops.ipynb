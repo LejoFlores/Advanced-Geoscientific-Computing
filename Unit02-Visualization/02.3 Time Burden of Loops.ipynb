{
 "cells": [
  {
   "cell_type": "markdown",
   "id": "3fae3324",
   "metadata": {},
   "source": [
    "## Time Burden of Loops\n",
    "\n",
    "Thusfar in our programming, we've been pretty liberal and free-going with our use of loops. However, the notebook provides an illustration of why we will want to be careful in using `for` and `while` loops going forward. At the same time, this is a good opportunity to learn about a couple of different ways to plot data using `matplotlib`. The objectives of this notebook are to:\n",
    "\n",
    "- Illustrate why using built-in functions to compute means and other statistics is almost always preferable to writing a loop\n",
    "- Use `matplotlib` to compare the amount of time used to make computations of statistical means of dataset using loops vs built-in functions \n",
    "- Demonstrate why the use of loops gets more burdensome as the dimensionality of the data increases \n",
    "\n",
    "In this notebook, we'll make use of a couple of new functions/methods:\n",
    "\n",
    "1. `%timeit` is a Jupyter notebook specific function that we can use to time how long a piece of code takes to run\n",
    "2. `plt.boxplot()` is the command for using `matplotlib` to create a box plot\n",
    "3. `enumerate()` is a Python command that gives us the index and value of each element of an \"iterable\" variable (a list, a `NumPy` array, etc.) \n",
    "\n"
   ]
  },
  {
   "cell_type": "code",
   "execution_count": 1,
   "id": "b49bfb67",
   "metadata": {},
   "outputs": [],
   "source": [
    "import numpy as np\n",
    "import matplotlib.pyplot as plt\n",
    "\n",
    "# 1-D example\n",
    "n = 10**6\n",
    "x = np.random.normal(5.0, 2.5, n)\n",
    "\n",
    "# 2-D (grid) example\n",
    "N = 10000\n",
    "X = np.random.normal(5.0, 2.5, (N,N))\n",
    "\n",
    "# 2-D Table oriented example\n",
    "Nr = 100000\n",
    "Nc = 15 # Number of data columns\n",
    "sample_means = np.linspace(1,Nc+1,Nc) # Mean of each variable just increases by 1\n",
    "sample_stdevs = 10*np.random.rand(Nc) # Standard deviation of each variable \n",
    "Xdtable = np.zeros((Nr,Nc))\n",
    "for i in range(Nc):\n",
    "    Xdtable[:,i] = np.random.normal(sample_means[i], sample_stdevs[i], Nr)\n"
   ]
  },
  {
   "cell_type": "code",
   "execution_count": 2,
   "id": "db84622c",
   "metadata": {},
   "outputs": [],
   "source": [
    "def old_skool_mean(x_in):\n",
    "    sum_x = 0.0\n",
    "\n",
    "    for i, xi in enumerate(x_in):\n",
    "        sum_x += xi\n",
    "    \n",
    "    return sum_x/x_in.size\n",
    "    \n",
    "def better_mean(x_in):\n",
    "    \n",
    "    return x_in.sum()/x_in.size\n",
    "\n",
    "def best_mean(x_in):\n",
    "    \n",
    "    return x_in.mean()\n"
   ]
  },
  {
   "cell_type": "code",
   "execution_count": 3,
   "id": "bf491729",
   "metadata": {},
   "outputs": [
    {
     "name": "stdout",
     "output_type": "stream",
     "text": [
      "63.7 ms ± 5.58 ms per loop (mean ± std. dev. of 7 runs, 10 loops each)\n",
      "187 μs ± 383 ns per loop (mean ± std. dev. of 7 runs, 10,000 loops each)\n",
      "189 μs ± 741 ns per loop (mean ± std. dev. of 7 runs, 10,000 loops each)\n"
     ]
    }
   ],
   "source": [
    "t_os = %timeit -o old_skool_mean(x)\n",
    "t_better = %timeit -o better_mean(x)\n",
    "t_best = %timeit -o best_mean(x)"
   ]
  },
  {
   "cell_type": "markdown",
   "id": "1912a4f1",
   "metadata": {},
   "source": [
    "#### Verify The Answer for Each"
   ]
  },
  {
   "cell_type": "code",
   "execution_count": 4,
   "id": "c1adae16",
   "metadata": {},
   "outputs": [
    {
     "name": "stdout",
     "output_type": "stream",
     "text": [
      "\n",
      "Output Means for:\n",
      "\tOld Skool Method: \t5.0017237227\n",
      "\tBetter Method: \t\t5.0017237227\n",
      "\tBest Method: \t\t5.0017237227\n",
      "\n"
     ]
    }
   ],
   "source": [
    "output_1D = f'''\n",
    "Output Means for:\n",
    "\\tOld Skool Method: \\t{old_skool_mean(x):.{10}f}\n",
    "\\tBetter Method: \\t\\t{better_mean(x):.{10}f}\n",
    "\\tBest Method: \\t\\t{best_mean(x):.{10}f}\n",
    "'''\n",
    "\n",
    "print(output_1D)"
   ]
  },
  {
   "cell_type": "code",
   "execution_count": 5,
   "id": "b54d5b59",
   "metadata": {},
   "outputs": [
    {
     "data": {
      "image/png": "[encoded data removed]",
      "text/plain": [
       "<Figure size 1000x800 with 1 Axes>"
      ]
     },
     "metadata": {},
     "output_type": "display_data"
    }
   ],
   "source": [
    "plt.figure(figsize=(10,8))\n",
    "plt.boxplot(1000*np.array([t_os.timings,t_better.timings,t_best.timings]).T)\n",
    "plt.xticks([1, 2, 3], ['Old Skool', 'Better', 'Best'])\n",
    "plt.ylabel('Execution Time [ms]')\n",
    "plt.xlabel('Method')\n",
    "plt.show()"
   ]
  },
  {
   "cell_type": "code",
   "execution_count": null,
   "id": "63e2c2ee",
   "metadata": {},
   "outputs": [],
   "source": [
    "def old_skool_mean_2D(x_in):\n",
    "    sum_x = 0.0\n",
    "\n",
    "    for ind, xi in np.ndenumerate(x_in):\n",
    "        sum_x += xi\n",
    "    \n",
    "    return sum_x/x_in.size\n",
    "    \n",
    "def better_mean_2D(x_in):\n",
    "    \n",
    "    return x_in.sum()/x_in.size\n",
    "\n",
    "def best_mean_2D(x_in):\n",
    "    \n",
    "    return x_in.mean()\n"
   ]
  },
  {
   "cell_type": "code",
   "execution_count": null,
   "id": "a6f6df26",
   "metadata": {},
   "outputs": [],
   "source": [
    "t_os_2D = %timeit -o old_skool_mean_2D(X)\n",
    "t_better_2D = %timeit -o better_mean_2D(X)\n",
    "t_best_2D = %timeit -o best_mean_2D(X)"
   ]
  },
  {
   "cell_type": "markdown",
   "id": "72f8272b",
   "metadata": {},
   "source": [
    "#### Verify The Answer for Each"
   ]
  },
  {
   "cell_type": "code",
   "execution_count": null,
   "id": "3844832f",
   "metadata": {},
   "outputs": [],
   "source": [
    "output_2D = f'''\n",
    "Output Means for:\n",
    "\\tOld Skool Method: \\t{old_skool_mean_2D(X):.{10}f}\n",
    "\\tBetter Method: \\t\\t{better_mean_2D(X):.{10}f}\n",
    "\\tBest Method: \\t\\t{best_mean_2D(X):.{10}f}\n",
    "'''\n",
    "\n",
    "print(output_2D)"
   ]
  },
  {
   "cell_type": "code",
   "execution_count": null,
   "id": "fdd5facf",
   "metadata": {},
   "outputs": [],
   "source": [
    "plt.figure(figsize=(10,8))\n",
    "plt.boxplot(1000*np.array([t_os_2D.timings,t_better_2D.timings,t_best_2D.timings]).T)\n",
    "plt.xticks([1, 2, 3], ['Old Skool', 'Better', 'Best'])\n",
    "plt.ylabel('Execution Time [ms]')\n",
    "plt.xlabel('Method')\n",
    "plt.show()"
   ]
  },
  {
   "cell_type": "code",
   "execution_count": null,
   "id": "5f6c1b37",
   "metadata": {},
   "outputs": [],
   "source": [
    "def old_skool_mean_dtable(x_in):\n",
    "    \n",
    "    nr, nc = x_in.shape\n",
    "    \n",
    "    mean_x = np.zeros(nc)\n",
    "    sum_x = np.zeros(nc)\n",
    "\n",
    "    for col in np.arange(nc):  \n",
    "        for row, xi in np.ndenumerate(x_in[:,col]):\n",
    "            sum_x[col] += xi\n",
    "\n",
    "        mean_x[col] = sum_x[col]/x_in.shape[0]    \n",
    "    return mean_x\n",
    "    \n",
    "def better_mean_dtable(x_in):\n",
    "    \n",
    "    return x_in.sum(axis=0)/x_in.shape[0]\n",
    "\n",
    "def best_mean_dtable(x_in):\n",
    "    \n",
    "    return x_in.mean(axis=0)"
   ]
  },
  {
   "cell_type": "code",
   "execution_count": null,
   "id": "79e28dce",
   "metadata": {},
   "outputs": [],
   "source": [
    "t_os_dtable = %timeit -o old_skool_mean_dtable(Xdtable)\n",
    "t_better_dtable = %timeit -o better_mean_dtable(Xdtable)\n",
    "t_best_dtable = %timeit -o best_mean_dtable(Xdtable)"
   ]
  },
  {
   "cell_type": "markdown",
   "id": "8b38a6c9",
   "metadata": {},
   "source": [
    "#### Verify The Answer for Each"
   ]
  },
  {
   "cell_type": "code",
   "execution_count": null,
   "id": "35b96c39",
   "metadata": {},
   "outputs": [],
   "source": [
    "output_dtable = f'''\n",
    "Output Means for:\n",
    "\\tOld Skool Method: {np.array2string(old_skool_mean_dtable(Xdtable),formatter={'float': lambda x: f'{x:.10f}'})}\n",
    "\\tBetter Method: {np.array2string(better_mean_dtable(Xdtable),formatter={'float': lambda x: f'{x:.10f}'})}\n",
    "\\tBest Method: {np.array2string(best_mean_dtable(Xdtable),formatter={'float': lambda x: f'{x:.10f}'})}\n",
    "'''\n",
    "\n",
    "print(output_dtable)"
   ]
  },
  {
   "cell_type": "code",
   "execution_count": null,
   "id": "f94ad9d3",
   "metadata": {},
   "outputs": [],
   "source": [
    "plt.figure(figsize=(10,8))\n",
    "plt.boxplot(1000*np.array([t_os_dtable.timings,\n",
    "                           t_better_dtable.timings,\n",
    "                           t_best_dtable.timings]).T)\n",
    "plt.xticks([1, 2, 3], ['Old Skool', 'Better', 'Best'])\n",
    "plt.ylabel('Execution Time [ms]')\n",
    "plt.xlabel('Method')\n",
    "plt.show()"
   ]
  },
  {
   "cell_type": "code",
   "execution_count": null,
   "id": "686cc6a3",
   "metadata": {},
   "outputs": [],
   "source": [
    "plt.figure(figsize=(10,8))\n",
    "plt.boxplot(1000*np.array([t_os_dtable.timings,\n",
    "                           t_better_dtable.timings,\n",
    "                           t_best_dtable.timings]).T)\n",
    "plt.xticks([1, 2, 3], ['Old Skool', 'Better', 'Best'])\n",
    "plt.ylabel('Execution Time [ms]')\n",
    "plt.xlabel('Method')\n",
    "plt.show()"
   ]
  },
  {
   "cell_type": "code",
   "execution_count": null,
   "id": "e59a7834",
   "metadata": {},
   "outputs": [],
   "source": [
    "old_skool_1d = np.asarray(t_os.timings)\n",
    "old_skool_2d = np.asarray(t_os_2D.timings)\n",
    "old_skool_dtable = np.asarray(t_os_dtable.timings)\n",
    "\n",
    "better_1d = np.asarray(t_better.timings)\n",
    "better_2d = np.asarray(t_better_2D.timings)\n",
    "better_dtable = np.asarray(t_better_dtable.timings)\n",
    "\n",
    "best_1d = np.asarray(t_best.timings)\n",
    "best_2d = np.asarray(t_best_2D.timings)\n",
    "best_dtable = np.asarray(t_best_dtable.timings)\n",
    "\n",
    "data_1d = [old_skool_1d*1e3, better_1d*1e3, best_1d*1e3]\n",
    "data_2d = [old_skool_2d, better_2d, best_2d]\n",
    "data_dtable = [old_skool_dtable, better_dtable, best_dtable]\n",
    "\n",
    "positions_1d = [0.5, 2.5, 4.5]\n",
    "positions_2d = [1.0, 3.0, 5.0]\n",
    "positions_dtable = [1.5, 3.5, 5.5]\n",
    "\n",
    "fig,ax = plt.subplots(figsize=(10,8))\n",
    "bp1 = ax.boxplot(data_1d, positions=positions_1d, widths=0.4, \n",
    "                 patch_artist=True, boxprops=dict(facecolor='lightblue'))\n",
    "bp2 = ax.boxplot(data_2d, positions=positions_2d, widths=0.4, \n",
    "                 patch_artist=True, boxprops=dict(facecolor='lightgreen'))\n",
    "bp3 = ax.boxplot(data_dtable, positions=positions_dtable, widths=0.4, \n",
    "                 patch_artist=True, boxprops=dict(facecolor='lightpink'))\n",
    "ax.set_xticks([1.0, 3.0, 5.0])\n",
    "ax.set_xticklabels(['Old Skool','Better','Best'])\n",
    "ax.legend([bp1['boxes'][0], bp2['boxes'][0], bp3['boxes'][0]], \n",
    "          ['1D [ms]', '2D [s]', 'Data Table [s]'])\n",
    "ax.set_ylabel('Execution Time [ms or s]')\n",
    "plt.show()"
   ]
  },
  {
   "cell_type": "markdown",
   "id": "05b88526",
   "metadata": {},
   "source": [
    "#### Some High-Level Conclusions\n",
    "\n",
    "* Loops incur a cost, compared to using built-in functions. When you encounter them, it's likely that the person writing the code may have been trained in a different language (and era)\n",
    "* The cost of loops increases with the number of data points/operations and is particularly evident when working with 2-D fields (which we encounter often in geoscience)\n",
    "* Use built-in functions when you can (`sum`,`min`,`max`,`mean`, `std`, etc.). They're there for a reason! \n",
    "* Try to avoid loops when possible, particularly when operating on large (e.g., geospatial) datasets! We'll use some more modern approaches to do this with bigger datasets! "
   ]
  }
 ],
 "metadata": {
  "kernelspec": {
   "display_name": "env",
   "language": "python",
   "name": "python3"
  },
  "language_info": {
   "codemirror_mode": {
    "name": "ipython",
    "version": 3
   },
   "file_extension": ".py",
   "mimetype": "text/x-python",
   "name": "python",
   "nbconvert_exporter": "python",
   "pygments_lexer": "ipython3",
   "version": "3.12.10"
  }
 },
 "nbformat": 4,
 "nbformat_minor": 5
}
