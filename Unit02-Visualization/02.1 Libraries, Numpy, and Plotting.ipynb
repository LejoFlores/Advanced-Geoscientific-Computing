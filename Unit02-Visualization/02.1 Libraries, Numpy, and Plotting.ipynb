{
 "cells": [
  {
   "cell_type": "markdown",
   "id": "5f07b209",
   "metadata": {},
   "source": [
    "# 02.1: Let's Get Down to Business\n",
    "\n",
    "## An Introduction to Libraries, Numpy, and Plotting in Python\n",
    "\n",
    "#### Learning Objectives for Today:\n",
    "\n",
    "By the end of this class, you will be able to:\n",
    "\n",
    "1. Import `numpy` and `matplotlib` and create rudimentary graphics\n",
    "2. Create arrays and matrices of numbers using `numpy` and perform mathematical operations on them\n",
    "3. Using an analogy, describe why libraries are important and what they do\n",
    "\n",
    "### What are these?\n",
    "\n",
    "<div>\n",
    "<img src=\"../img/workshop.jpg\" width=\"33%\"/>\n",
    "<img src=\"../img/toolbox.jpg\" width=\"33%\"/>\n",
    "<img src=\"../img/painters-tape.jpg\" width=\"33%\"/>\n",
    "</div>"
   ]
  },
  {
   "cell_type": "code",
   "execution_count": null,
   "id": "ae554b99",
   "metadata": {
    "vscode": {
     "languageId": "plaintext"
    }
   },
   "outputs": [],
   "source": []
  }
 ],
 "metadata": {
  "language_info": {
   "name": "python"
  }
 },
 "nbformat": 4,
 "nbformat_minor": 5
}
