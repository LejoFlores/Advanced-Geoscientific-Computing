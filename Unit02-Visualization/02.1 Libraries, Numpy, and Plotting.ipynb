{
 "cells": [
  {
   "cell_type": "markdown",
   "id": "5f07b209",
   "metadata": {},
   "source": [
    "# 02.1: Let's Get Down to Business\n",
    "\n",
    "## An Introduction to Libraries, Numpy, and Plotting in Python\n",
    "\n",
    "#### Learning Objectives for Today:\n",
    "\n",
    "By the end of this class, you will be able to:\n",
    "\n",
    "1. Import `numpy` and `matplotlib` and create rudimentary graphics\n",
    "2. Create arrays and matrices of numbers using `numpy` and perform mathematical operations on them\n",
    "3. Using an analogy, describe why libraries are important and what they do\n",
    "\n",
    "### What are these?\n",
    "\n",
    "<div>\n",
    "<img src=\"../img/workshop.jpg\" width=\"33%\"/>\n",
    "<img src=\"../img/toolbox.jpg\" width=\"33%\"/>\n",
    "<img src=\"../img/painters-tape.jpg\" width=\"33%\"/>\n",
    "</div>"
   ]
  },
  {
   "cell_type": "code",
   "execution_count": null,
   "id": "ae554b99",
   "metadata": {},
   "outputs": [],
   "source": []
  },
  {
   "cell_type": "markdown",
   "id": "fae56d67",
   "metadata": {},
   "source": [
    "## `numpy` Documentation\n",
    "\n",
    "The NumPy documentation is excellent. And [__the absolute basics for beginners__](https://numpy.org/doc/stable/user/absolute_beginners.html) is a really good place to learn more."
   ]
  },
  {
   "cell_type": "markdown",
   "id": "e5df7945",
   "metadata": {},
   "source": []
  }
 ],
 "metadata": {
  "kernelspec": {
   "display_name": "env",
   "language": "python",
   "name": "python3"
  },
  "language_info": {
   "name": "python",
   "version": "3.12.10"
  }
 },
 "nbformat": 4,
 "nbformat_minor": 5
}
