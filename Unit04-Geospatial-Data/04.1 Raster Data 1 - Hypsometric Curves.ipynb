{
 "cells": [
  {
   "cell_type": "markdown",
   "id": "2eab952d",
   "metadata": {},
   "source": [
    "# Working Geospatial Data: Raster Data 1: Hypsometric Curve\n",
    "\n",
    "Raster data are perhaps the most conceptually straightforward form of geospatial data. A raster is simply a 2-dimensional gridded dataset situated somewhere on the surface of the Earth (or someother planetoid). To situate the grid, we need to know some important data such as: (1) the spatial coordinates of at least one pixel in an appropriate coordinate reference system (CRS) - usually the lower left one, (2) the number of rows and columns in the raster, (3) size of each pixel – most often each pixel will be equal size in x- and y-coordinates, but this doesn't have to be true, and (3) some number that tells us what data within the grid should be considered as not valid (i.e., a no-data value like -9999). There are a lot of nuances to this that are more appropriately dealt with in a GIS class. Things like rectilinear vs. curvilinear grids, appropriate CRSs and their transformations, and data storage conventions that might apply a scale factor and offset to store the data more efficiently. \n",
    "\n",
    "In this class, we're most interested in tools that allow us to analyze pre-prepared gridded datasets that encompass data like elevation and/or landcover. In this notebook, we will use a popular library called [rasterio](https://rasterio.readthedocs.io/en/stable/) to read in and analyze a digital elevation model (DEM) and land use/land cover for the Upper Boise River Basin (UBRB). If you're interested, I prepared and downloaded these data using Google Earth Engine, which has a great Python API. \n",
    "\n",
    "We'll start by loading the appropriate libraries. In this notebook, most of the libraries are standard ones we've used beflore. But `mpl_toolkits` provides us some advanced tools for manipulating Matplotlib plots, and `pygeohydro` is a somewhat bespoke library that gives us the standard National Land Cover Dataset (NLCD) colormap for land use.\n",
    "\n",
    "In the notebook below, we will simply look at the land use/land cover and then compute and plot the so-called hypsometric curve of the UBRB – the proportion of a map at a particular elevation for all elevations. We will then use these plots to pose some additional questions we might want to ask. \n",
    "\n",
    "__Note:__ The GeoTiff data for this notebook can be found in [this Google Drive folder](https://drive.google.com/drive/folders/10zgh9vo9t2vGCMVmxl_zOzz9aT58_dMD?usp=sharing). Download it and copy it to a folder that you can reference below in the code. "
   ]
  },
  {
   "cell_type": "code",
   "execution_count": null,
   "id": "6798f38f",
   "metadata": {},
   "outputs": [],
   "source": [
    "import numpy as np\n",
    "import rasterio as rio\n",
    "import matplotlib.pyplot as plt\n",
    "from mpl_toolkits.axes_grid1 import make_axes_locatable\n",
    "import pygeohydro as gh\n",
    "\n",
    "elev_fname = '../data/ubrb_dem_30m.tif'\n",
    "lulc_fname = '../data/upper_boise_landcover_30m.tif'\n",
    "# elev_fname = '../data/hfork_dem_30m.tif'\n",
    "# lulc_fname = '../data/hfork_lulc_30m.tif'\n",
    "\n",
    "plot_label = 'Upper Boise River'\n",
    "# plot_label = 'Upper Snake River'"
   ]
  },
  {
   "cell_type": "code",
   "execution_count": null,
   "id": "4615504b",
   "metadata": {},
   "outputs": [],
   "source": [
    "elev_data = rio.open(elev_fname)\n",
    "elev_array = elev_data.read(1)\n",
    "elev_array.shape"
   ]
  },
  {
   "cell_type": "code",
   "execution_count": null,
   "id": "7fe494cc",
   "metadata": {},
   "outputs": [],
   "source": [
    "lulc_data = rio.open(lulc_fname)\n",
    "lulc_array = lulc_data.read(1)\n",
    "lulc_array.shape"
   ]
  },
  {
   "cell_type": "code",
   "execution_count": null,
   "id": "12173cf8",
   "metadata": {},
   "outputs": [],
   "source": [
    "plt.rcParams.update({'font.size': 14})\n",
    "\n",
    "fig, ax = plt.subplots(figsize = (14,8))\n",
    "im = ax.imshow(elev_array,cmap='gist_earth')\n",
    "ax.set_xlabel('East-West [pixels]')\n",
    "ax.set_ylabel('North-South [pixels]')\n",
    "divider = make_axes_locatable(ax)\n",
    "cax = divider.new_horizontal(size = '5%', pad = 0.5, pack_start = False)\n",
    "fig.add_axes(cax)\n",
    "fig.colorbar(mappable=im, cax=cax)\n",
    "\n",
    "plt.show()"
   ]
  },
  {
   "cell_type": "code",
   "execution_count": null,
   "id": "61361d37",
   "metadata": {},
   "outputs": [],
   "source": [
    "zmin = elev_array.min()\n",
    "zmax = elev_array.max()\n",
    "zmean = elev_array.mean()\n",
    "zstd = elev_array.std()\n",
    "\n",
    "zstats = f'''\n",
    "Elevation Statistics:\n",
    "Minimum elevation: {zmin:.{2}f} m\n",
    "Maximum elevation: {zmax:.{2}f} m\n",
    "Mean elevation: {zmean:.{2}f} m\n",
    "Std. dev. elevation: {zstd:.{2}f} m\n",
    "'''\n",
    "\n",
    "print(zstats)"
   ]
  },
  {
   "cell_type": "code",
   "execution_count": null,
   "id": "84eb6a24",
   "metadata": {},
   "outputs": [],
   "source": [
    "# Get NLCD colormap using pygeohydro tool stack \n",
    "cmap, norm, levels = gh.plot.cover_legends()\n",
    "\n",
    "fig, ax = plt.subplots(figsize = (14,8))\n",
    "im = ax.imshow(np.flipud(lulc_array),cmap=cmap, norm=norm)\n",
    "ax.set_xlabel('East-West [pixels]')\n",
    "ax.set_ylabel('North-South [pixels]')\n",
    "divider = make_axes_locatable(ax)\n",
    "cax = divider.new_horizontal(size = '5%', pad = 0.5, pack_start = False)\n",
    "fig.add_axes(cax)\n",
    "fig.colorbar(mappable=im, cax=cax)\n",
    "\n",
    "plt.show()"
   ]
  },
  {
   "cell_type": "code",
   "execution_count": null,
   "id": "0e2ede5b",
   "metadata": {},
   "outputs": [],
   "source": [
    "zhist, zbins = np.histogram(elev_array, bins=25)\n",
    "zbin_center = (zbins[:-1] + zbins[1:])/2\n",
    "zfrac = zhist/zhist.sum()"
   ]
  },
  {
   "cell_type": "code",
   "execution_count": null,
   "id": "68c06e73",
   "metadata": {},
   "outputs": [],
   "source": [
    "plt.figure(figsize=(10,8))\n",
    "plt.bar(zbin_center,zfrac,width=1.0*(zbin_center[1]-zbin_center[0]))\n",
    "plt.axvline(zmean, color='k', linestyle='--', label=r'$\\mu_z$')\n",
    "plt.axvline(zmean-zstd, color='r', linestyle=':', label=r'$\\mu_z - \\sigma_z$')\n",
    "plt.axvline(zmean+zstd, color='r', linestyle=':', label=r'$\\mu_z + \\sigma_z$')\n",
    "plt.title(plot_label+' Elevation Distribution')\n",
    "plt.xlabel('Elevation [m]')\n",
    "plt.ylabel('Frequency [-]')\n",
    "plt.grid('on')\n",
    "plt.legend()\n",
    "plt.show()"
   ]
  },
  {
   "cell_type": "code",
   "execution_count": null,
   "id": "9ec6bb42",
   "metadata": {},
   "outputs": [],
   "source": [
    "plt.figure(figsize=(10,8))\n",
    "plt.bar(zbin_center,zfrac.cumsum(),width=1.0*(zbin_center[1]-zbin_center[0]))\n",
    "plt.title(plot_label+' Cumulative Elevation Distribution')\n",
    "plt.xlabel('Elevation [m]')\n",
    "plt.ylabel('Cumulative Proportion [-]')\n",
    "plt.grid('on')\n",
    "plt.show()"
   ]
  },
  {
   "cell_type": "code",
   "execution_count": null,
   "id": "2c820517",
   "metadata": {},
   "outputs": [],
   "source": [
    "plt.figure(figsize=(10,8))\n",
    "plt.plot(zfrac.cumsum(),zbin_center)\n",
    "plt.xticks(np.arange(0.0, 1.1, 0.1))\n",
    "plt.yticks(np.arange(1000,3500,250))\n",
    "plt.title(plot_label+' Hypsometric Curve')\n",
    "plt.xlabel('Proportion Below Elevation [-]')\n",
    "plt.ylabel('Elevation [m]')\n",
    "plt.grid('on')\n",
    "plt.show()"
   ]
  },
  {
   "cell_type": "code",
   "execution_count": null,
   "id": "9ae851f0",
   "metadata": {},
   "outputs": [],
   "source": [
    "plt.figure(figsize=(10,8))\n",
    "plt.plot(1.0 - zfrac.cumsum(),zbin_center)\n",
    "plt.xticks(np.arange(0.0, 1.1, 0.1))\n",
    "plt.yticks(np.arange(1000,3500,250))\n",
    "plt.title(plot_label+' Hypsometric Curve')\n",
    "plt.xlabel('Proportion Above Elevation [-]')\n",
    "plt.ylabel('Elevation [m]')\n",
    "plt.grid('on')\n",
    "plt.show()"
   ]
  },
  {
   "cell_type": "code",
   "execution_count": null,
   "id": "12081c29",
   "metadata": {},
   "outputs": [],
   "source": []
  }
 ],
 "metadata": {
  "kernelspec": {
   "display_name": "env",
   "language": "python",
   "name": "python3"
  },
  "language_info": {
   "codemirror_mode": {
    "name": "ipython",
    "version": 3
   },
   "file_extension": ".py",
   "mimetype": "text/x-python",
   "name": "python",
   "nbconvert_exporter": "python",
   "pygments_lexer": "ipython3",
   "version": "3.12.10"
  }
 },
 "nbformat": 4,
 "nbformat_minor": 5
}
