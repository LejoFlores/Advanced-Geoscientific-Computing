{
 "cells": [
  {
   "cell_type": "markdown",
   "id": "f660ea36",
   "metadata": {},
   "source": [
    "# String Handling\n",
    "\n",
    "\n",
    "### Basics"
   ]
  },
  {
   "cell_type": "code",
   "execution_count": null,
   "id": "07ee7f87",
   "metadata": {},
   "outputs": [],
   "source": [
    "x = 24 # This is an integer\n",
    "y = 48 # This is an integer\n",
    "z = 4.2 # This is a double precision floating point\n",
    "\n",
    "char = 'Cappucina Ballerina' # This is a string\n"
   ]
  },
  {
   "cell_type": "code",
   "execution_count": 2,
   "id": "2a1ed290",
   "metadata": {},
   "outputs": [
    {
     "data": {
      "text/plain": [
       "72"
      ]
     },
     "execution_count": 2,
     "metadata": {},
     "output_type": "execute_result"
    }
   ],
   "source": [
    "x + y"
   ]
  },
  {
   "cell_type": "code",
   "execution_count": 3,
   "id": "316e1140",
   "metadata": {},
   "outputs": [
    {
     "name": "stdout",
     "output_type": "stream",
     "text": [
      "72\n"
     ]
    }
   ],
   "source": [
    "print(x+y)"
   ]
  },
  {
   "cell_type": "code",
   "execution_count": null,
   "id": "aa25a1f9",
   "metadata": {},
   "outputs": [
    {
     "name": "stdout",
     "output_type": "stream",
     "text": [
      "x + y = 72\n"
     ]
    }
   ],
   "source": [
    "print('x + y = ' + str(x+y))"
   ]
  },
  {
   "cell_type": "code",
   "execution_count": 5,
   "id": "6ce94492",
   "metadata": {},
   "outputs": [
    {
     "data": {
      "text/plain": [
       "28.2"
      ]
     },
     "execution_count": 5,
     "metadata": {},
     "output_type": "execute_result"
    }
   ],
   "source": [
    "x+z"
   ]
  },
  {
   "cell_type": "code",
   "execution_count": 6,
   "id": "a5a38d7b",
   "metadata": {},
   "outputs": [
    {
     "name": "stdout",
     "output_type": "stream",
     "text": [
      "28.2\n"
     ]
    }
   ],
   "source": [
    "print(x+z)"
   ]
  },
  {
   "cell_type": "code",
   "execution_count": 7,
   "id": "dd8339c9",
   "metadata": {},
   "outputs": [
    {
     "name": "stdout",
     "output_type": "stream",
     "text": [
      "x + z = 28.2\n"
     ]
    }
   ],
   "source": [
    "print('x + z = ' + str(x + z))"
   ]
  },
  {
   "cell_type": "code",
   "execution_count": 10,
   "id": "d396ba3a",
   "metadata": {},
   "outputs": [
    {
     "name": "stdout",
     "output_type": "stream",
     "text": [
      "Cappucina Ballerina\n"
     ]
    }
   ],
   "source": [
    "print(char)"
   ]
  },
  {
   "cell_type": "code",
   "execution_count": 11,
   "id": "768a67a5",
   "metadata": {},
   "outputs": [
    {
     "name": "stdout",
     "output_type": "stream",
     "text": [
      "Cappucina Ballerina is meme character in the Italian brainrot genre\n"
     ]
    }
   ],
   "source": [
    "print(char+' is meme character in the Italian brainrot genre')"
   ]
  },
  {
   "cell_type": "markdown",
   "id": "4d93d91e",
   "metadata": {},
   "source": [
    "### F-Strings"
   ]
  },
  {
   "cell_type": "code",
   "execution_count": 8,
   "id": "837a2049",
   "metadata": {},
   "outputs": [
    {
     "name": "stdout",
     "output_type": "stream",
     "text": [
      "x=24, y=48, sum=72\n"
     ]
    }
   ],
   "source": [
    "print(f'x={x}, y={y}, sum={x+y}')"
   ]
  },
  {
   "cell_type": "code",
   "execution_count": 9,
   "id": "bebb62f4",
   "metadata": {},
   "outputs": [
    {
     "name": "stdout",
     "output_type": "stream",
     "text": [
      "x=24, y=48, x+y=72\n"
     ]
    }
   ],
   "source": [
    "print(f'{x=}, {y=}, {x+y=}')"
   ]
  },
  {
   "cell_type": "code",
   "execution_count": 12,
   "id": "af292fb2",
   "metadata": {},
   "outputs": [
    {
     "name": "stdout",
     "output_type": "stream",
     "text": [
      "21.3100000000\n"
     ]
    }
   ],
   "source": [
    "width = 10\n",
    "air_temp = 21.31\n",
    "\n",
    "print(f'{air_temp:.{width}f}')"
   ]
  },
  {
   "cell_type": "code",
   "execution_count": 14,
   "id": "98a038ac",
   "metadata": {},
   "outputs": [
    {
     "name": "stdout",
     "output_type": "stream",
     "text": [
      "Salary is... $421,540,599\n"
     ]
    }
   ],
   "source": [
    "salary = 421540599\n",
    "\n",
    "print(f'Salary is... ${salary:,}')"
   ]
  },
  {
   "cell_type": "code",
   "execution_count": 15,
   "id": "5caac438",
   "metadata": {},
   "outputs": [
    {
     "name": "stdout",
     "output_type": "stream",
     "text": [
      "probability = 55.65%\n"
     ]
    }
   ],
   "source": [
    "probability = 0.5565\n",
    "\n",
    "print(f'probability = {probability:.2%}')"
   ]
  },
  {
   "cell_type": "code",
   "execution_count": 17,
   "id": "46b3e112",
   "metadata": {},
   "outputs": [
    {
     "name": "stdout",
     "output_type": "stream",
     "text": [
      "\n",
      "Name: Stu\n",
      "Age: 46\n",
      "Nickname: Disco\n",
      "\n"
     ]
    }
   ],
   "source": [
    "name = 'Stu'\n",
    "age = 46\n",
    "nickname = 'Disco'\n",
    "\n",
    "info = f'''\n",
    "Name: {name}\n",
    "Age: {age}\n",
    "Nickname: {nickname}\n",
    "'''\n",
    "\n",
    "print(info)"
   ]
  },
  {
   "cell_type": "markdown",
   "id": "92b3181a",
   "metadata": {},
   "source": [
    "### Practical Use Cases\n",
    "\n",
    "#### Debugging Code\n",
    "\n",
    "__Example 1__: I have written a code that computes evapotranspiration using the Penman-Monteith equation. One function (more on this later) in this code takes the air temperature (in °C) and the relative humidity (in %) as input and returns the vapor pressure deficit (VPD). My code keeps returning unrealistic numbers (evapotranspiration values of 3 **meters** per day) and I suspect that there might be an issue with the way that VPD is calculated. To debug my code, I would like to print out the values of air temperature and relative humidity that the function is receiving, and the value of VPD it is returning as output. I can basically identify three potential outcomes of this debugging test:\n",
    "1. The values computed are realistic then the problem lies somewhere else in the code,\n",
    "2. Air temperature and/or relative humidity are not realistic and so the function is somehow not getting the right input, \n",
    "3. The air temperature and relative humidity are realistic but the VPD is not and so there is an error in my computation.\n",
    "\n",
    "The cell below is example code of what this debugging test might look like. For now we'll assume values of air temperature and relative humidity, which excludes outcome 2 above."
   ]
  },
  {
   "cell_type": "code",
   "execution_count": 22,
   "id": "348e9d58",
   "metadata": {},
   "outputs": [
    {
     "name": "stdout",
     "output_type": "stream",
     "text": [
      "\n",
      "VPD calculation debug:\n",
      "airT = 22.3 °C\n",
      "RH = 27.33 %\n",
      "VPD = 1.957 kPa\n",
      "\n"
     ]
    }
   ],
   "source": [
    "import numpy as np # Don't worry about what this is for now\n",
    "\n",
    "# Assume these are the values passed to my code \n",
    "airT = 22.3 # Air temperature in °C\n",
    "RH = 27.33  # Relative humidity in %\n",
    "\n",
    "# Don't worry about these equations\n",
    "esat = 0.6108*np.exp((17.27*airT)/(airT + 237.3)) # Saturation vapor pressure in kPa\n",
    "ea = (RH/100.0)*esat # Actual vapor pressure in kPA\n",
    "\n",
    "VPD = esat - ea # Vapor pressure deficit in kPa\n",
    "\n",
    "# Create output string:\n",
    "vpd_info = f'''\n",
    "VPD calculation debug:\n",
    "airT = {airT} °C\n",
    "RH = {RH} %\n",
    "VPD = {VPD:.{3}f} kPa\n",
    "'''\n",
    "\n",
    "print(vpd_info)\n"
   ]
  },
  {
   "cell_type": "markdown",
   "id": "797058fc",
   "metadata": {},
   "source": [
    "#### Updating Progress"
   ]
  },
  {
   "cell_type": "code",
   "execution_count": null,
   "id": "899afc1a",
   "metadata": {},
   "outputs": [],
   "source": []
  }
 ],
 "metadata": {
  "kernelspec": {
   "display_name": "geos505",
   "language": "python",
   "name": "python3"
  },
  "language_info": {
   "codemirror_mode": {
    "name": "ipython",
    "version": 3
   },
   "file_extension": ".py",
   "mimetype": "text/x-python",
   "name": "python",
   "nbconvert_exporter": "python",
   "pygments_lexer": "ipython3",
   "version": "3.11.0"
  }
 },
 "nbformat": 4,
 "nbformat_minor": 5
}
