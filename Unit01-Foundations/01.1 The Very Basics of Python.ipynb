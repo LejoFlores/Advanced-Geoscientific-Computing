{
 "cells": [
  {
   "cell_type": "markdown",
   "id": "d212c438",
   "metadata": {},
   "source": [
    "# 01.1 The Very Basics of Python\n",
    "\n"
   ]
  },
  {
   "cell_type": "code",
   "execution_count": null,
   "id": "a7a24f3b",
   "metadata": {},
   "outputs": [],
   "source": [
    "# This is a Code Cell"
   ]
  }
 ],
 "metadata": {
  "kernelspec": {
   "display_name": "env",
   "language": "python",
   "name": "python3"
  },
  "language_info": {
   "name": "python",
   "version": "3.12.10"
  }
 },
 "nbformat": 4,
 "nbformat_minor": 5
}
