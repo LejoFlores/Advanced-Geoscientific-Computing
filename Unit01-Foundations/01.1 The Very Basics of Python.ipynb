{
 "cells": [
  {
   "cell_type": "markdown",
   "id": "d212c438",
   "metadata": {},
   "source": [
<<<<<<< HEAD
    "# 01.1 The Very Basics of Python and Jupyter Notebooks\n",
    "\n",
    "This is a Jupyter notebook. It is a file (it always has an extension of `.ipynb`) that contains a mixture of code, formatted text, as well as any media (graphics files) that are output from our code, or embeddded in our text. Jupyter is actually a portmonteau of \"Julia, Python, and R\" – the languages that these notebooks provide support for, by default. \n",
    "\n",
    "Every Jupyter notebook consists of \"cells.\" Cells can be code cells or markdown cells. Markdown is a \"mark up\" language that provides an easy way of formatting text. I am writing this text and can decorate the text with modifiers to do things like create text in *italics* and __bold__. I can:\n",
    "\n",
    "1. Create \n",
    "2. Numbered \n",
    "3. Lists\n",
    "\n",
    "I can also:\n",
    "\n",
    "- Create\n",
    "- Bulleted \n",
    "- Lists\n",
    "\n",
    "I can also create some basic tables:\n",
    "\n",
    "| Thing 1 | Thing 2 | Thing 3 |\n",
    "| --- | --- | --- |\n",
    "| 1 | 2 | 3 |\n",
    "| 4 | 5 | 6 |\n",
    "\n",
    "I can even invoke Latex if I want to write equations:\n",
    "\n",
    "$$\n",
    "\\frac{\\partial T}{\\partial t} = - \\frac{\\partial^2 T}{\\partial x^2} + S(t)\n",
    "$$\n",
    "\n",
    "Below is a code cell:"
   ]
  },
  {
   "cell_type": "code",
   "execution_count": 3,
   "id": "a7a24f3b",
   "metadata": {},
   "outputs": [],
   "source": [
    "# This is a Code Cell. I can write Python code in this cell that can be executed using\n",
    "# the Python interpreter. When I run this cell, the interpreter will only execute the \n",
    "# code in this cell.\n",
    "\n",
    "Tf = 101.4 # Temperature in Fahrenheit\n",
    "Tc = (Tf - 32)*(5/9) # Convert to temperature in Celsius"
   ]
  },
  {
   "cell_type": "code",
   "execution_count": 4,
   "id": "36488d9a",
   "metadata": {},
   "outputs": [
    {
     "name": "stdout",
     "output_type": "stream",
     "text": [
      "38.55555555555556\n"
     ]
    }
   ],
   "source": [
    "# Cells are sequential. When I run this cell, I can invoke any outputs from the previous\n",
    "# cell. Notice how the converted temperature in Celsius didn't display? \n",
    "\n",
    "print(Tc) "
   ]
  },
  {
   "cell_type": "code",
   "execution_count": 5,
   "id": "19a061ff",
   "metadata": {},
   "outputs": [
    {
     "name": "stdout",
     "output_type": "stream",
     "text": [
      "311.7055555555555\n"
     ]
    }
   ],
   "source": [
    "# I can also use the outputs of my calculations above to do new calculations\n",
    "\n",
    "Tk = Tc + 273.15 # Convert to temperature in Kelvin\n",
    "print(Tk)"
=======
    "# 01.1 The Very Basics of Python\n",
    "\n"
>>>>>>> 5955bc3160292b03ce3152ab49b5a16412f72761
   ]
  },
  {
   "cell_type": "code",
   "execution_count": null,
<<<<<<< HEAD
   "id": "5327ed3b",
   "metadata": {},
   "outputs": [],
   "source": [
    "# But remember cells are sequential. Let's change Tf and see what happens to Tc:\n",
    "\n",
    "Tf = 88.2\n",
    "print(Tc)"
   ]
  },
  {
   "cell_type": "markdown",
   "id": "1a260f12",
   "metadata": {},
   "source": [
    "Switching back to markdown now. Did the value of `Tc` change? Why or why not? \n",
    "\n",
    "### Why are Notebooks Popular? \n",
    "\n",
    "Notebooks are very powerful ways to document scientific computing workflows because we can intersperse text and code. These notebooks can be posted on the web and rendered for others to see and potentially use and remix. [Here is a notebook](https://documentation.dataspace.copernicus.eu/notebook-samples/sentinelhub/air_pollution_statistics.html) illustrating how to use ESA's satellite fleet to map air pollution. [And here's a notebook](https://github.com/LEAF-BoiseState/wrf30yr-drought-analysis/blob/main/SurfaceSoilMoistureExample.ipynb) I created to analyze and map soil moisture data from a model of the coupled land-atmosphere system. Because of these features, notebooks provide us a vehicle to effectively do data storytelling and communicate science to others.\n",
    "\n",
    "### So... Notebooks for Everything?\n",
    "\n",
    "While notebooks are very powerful for documenting computational workflows, they have important limitations that are important to understand. \n",
    "\n",
    "First, they are not for general software development use. If you want to create code to do an end-to-end workflow like running a model and you (or the user) are not interested in the internal states of your code, you're better off writing a `.py` Python script (or multiple scripts that work together, if it's particularly complex) and running it. Similarly, Jupyter notebooks are not particularly good for automated tasks. For example, if you wanted to write a script to automatically download data from a weather forecast model when it becomes available at 1:00am every night, a notebook is not the way to go. Later in the class, I can show you how to create and run workflows in `.py` files.\n",
    "\n",
    "Second, because of their convenience, it can be easy to be very verbose with notebooks. I have seen some students create their entire MS thesis code in a single notebook. This can make notebooks difficult to read and also it can complicate their execution. Notebooks are best when they document a single task from start to finish. For example, opening a dataset, performing a series of calculations, writing those calculations to a new file, and generating some plots is about the right scope for a single notebook. Additional notebooks might then make use of the output from a previous notebook and build on top of them. \n",
    "\n",
    "Finally, some teachers of programming believe that notebooks are not the best way for new users to learn Python. Because individual code cells are executed independently, this can create situations ripe for confusion if a variable or function is updated but all the cells before it or all the cells that use that variable or function aren't re-run (as in the case when we changed `Tf` above). The concern is that this can create some bad habits among new users that are hard to subsequently break. One way around this is to completely clear the notebook, restart the Python kernel, and run all cells in the notebook after you are done debugging all the code to ensure it is working as designed. I will show you how to do this and how to tell if someone has done this likewise in their code (I'll also be looking at __your__ code to check).\n",
    "\n",
    "### Notebooks in This Class\n",
    "\n",
    "We will be using notebooks as the primary vehicle to learn, do, and document our programming in this class. They are very useful for \"data science-ey\" workflows, which is much of what we will be doing in the class. A bonus of this is that, at the end of the semester, hopefully you have a nice collection of notebooks that stands as a professional artifact illustrating your Python programming savvy. Notebooks are also a flexible teaching tool that allow me to structure assignments — allowing me to give you bread crumbs, create code that's not quite working, or give you completed code to have you document. \n",
    "\n",
    "### Some Helpful Resources\n",
    "\n",
    "* A very good article on Jupyter Notebooks for beginners: https://coderpad.io/blog/data-science/mastering-jupyter-notebooks-best-practices-for-data-science/ \n",
    "* GitHub flavored Markdown: https://github.com/adam-p/markdown-here/wiki/markdown-cheatsheet\n",
    "* A reddit thread of someone having an existential crisis about Jupyter notebooks: https://www.reddit.com/r/Python/comments/u8tsd6/is_it_bad_practice_to_start_with_jupyter_notebooks/"
   ]
  },
  {
   "cell_type": "markdown",
   "id": "4dd2c337",
   "metadata": {},
   "source": []
=======
   "id": "a7a24f3b",
   "metadata": {},
   "outputs": [],
   "source": [
    "# This is a Code Cell"
   ]
>>>>>>> 5955bc3160292b03ce3152ab49b5a16412f72761
  }
 ],
 "metadata": {
  "kernelspec": {
   "display_name": "env",
   "language": "python",
   "name": "python3"
  },
  "language_info": {
<<<<<<< HEAD
   "codemirror_mode": {
    "name": "ipython",
    "version": 3
   },
   "file_extension": ".py",
   "mimetype": "text/x-python",
   "name": "python",
   "nbconvert_exporter": "python",
   "pygments_lexer": "ipython3",
=======
   "name": "python",
>>>>>>> 5955bc3160292b03ce3152ab49b5a16412f72761
   "version": "3.12.10"
  }
 },
 "nbformat": 4,
 "nbformat_minor": 5
}
