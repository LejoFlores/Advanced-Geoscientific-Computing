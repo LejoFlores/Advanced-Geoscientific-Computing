{
 "cells": [
  {
   "cell_type": "markdown",
   "id": "f660ea36",
   "metadata": {},
   "source": [
    "# 01.2 String Handling\n",
    "\n",
    "### a. Understanding Data Types"
   ]
  },
  {
   "cell_type": "code",
   "execution_count": null,
   "id": "07ee7f87",
   "metadata": {},
   "outputs": [],
   "source": [
    "x = 24 # This is an integer\n",
    "y = 48 # This is an integer\n",
    "z = 4.2 # This is a double precision floating point\n",
    "\n",
    "char = 'Cappucina Ballerina' # This is a character string\n"
   ]
  },
  {
   "cell_type": "code",
   "execution_count": 2,
   "id": "0dad7185",
   "metadata": {},
   "outputs": [
    {
     "data": {
      "text/plain": [
       "int"
      ]
     },
     "execution_count": 2,
     "metadata": {},
     "output_type": "execute_result"
    }
   ],
   "source": [
    "type(x)"
   ]
  },
  {
   "cell_type": "code",
   "execution_count": 3,
   "id": "0389b3af",
   "metadata": {},
   "outputs": [
    {
     "data": {
      "text/plain": [
       "int"
      ]
     },
     "execution_count": 3,
     "metadata": {},
     "output_type": "execute_result"
    }
   ],
   "source": [
    "type(y)"
   ]
  },
  {
   "cell_type": "code",
   "execution_count": 4,
   "id": "bf06863f",
   "metadata": {},
   "outputs": [
    {
     "data": {
      "text/plain": [
       "float"
      ]
     },
     "execution_count": 4,
     "metadata": {},
     "output_type": "execute_result"
    }
   ],
   "source": [
    "type(z)"
   ]
  },
  {
   "cell_type": "code",
   "execution_count": 5,
   "id": "60a7d0f5",
   "metadata": {},
   "outputs": [
    {
     "data": {
      "text/plain": [
       "str"
      ]
     },
     "execution_count": 5,
     "metadata": {},
     "output_type": "execute_result"
    }
   ],
   "source": [
    "type(char)"
   ]
  },
  {
   "cell_type": "code",
   "execution_count": 2,
   "id": "2a1ed290",
   "metadata": {},
   "outputs": [
    {
     "data": {
      "text/plain": [
       "72"
      ]
     },
     "execution_count": 2,
     "metadata": {},
     "output_type": "execute_result"
    }
   ],
   "source": [
    "x + y"
   ]
  },
  {
   "cell_type": "code",
   "execution_count": 8,
   "id": "5b60977a",
   "metadata": {},
   "outputs": [
    {
     "data": {
      "text/plain": [
       "int"
      ]
     },
     "execution_count": 8,
     "metadata": {},
     "output_type": "execute_result"
    }
   ],
   "source": [
    "type(x+y)"
   ]
  },
  {
   "cell_type": "code",
   "execution_count": 9,
   "id": "6ce94492",
   "metadata": {},
   "outputs": [
    {
     "data": {
      "text/plain": [
       "28.2"
      ]
     },
     "execution_count": 9,
     "metadata": {},
     "output_type": "execute_result"
    }
   ],
   "source": [
    "x+z"
   ]
  },
  {
   "cell_type": "code",
   "execution_count": 10,
   "id": "7a6c410a",
   "metadata": {},
   "outputs": [
    {
     "data": {
      "text/plain": [
       "float"
      ]
     },
     "execution_count": 10,
     "metadata": {},
     "output_type": "execute_result"
    }
   ],
   "source": [
    "type(x+z)"
   ]
  },
  {
   "cell_type": "markdown",
   "id": "0b966cef",
   "metadata": {},
   "source": [
    "Wait, what? "
   ]
  },
  {
   "cell_type": "code",
   "execution_count": 11,
   "id": "7983b2c6",
   "metadata": {},
   "outputs": [
    {
     "data": {
      "text/plain": [
       "0.5"
      ]
     },
     "execution_count": 11,
     "metadata": {},
     "output_type": "execute_result"
    }
   ],
   "source": [
    "x/y"
   ]
  },
  {
   "cell_type": "markdown",
   "id": "3852c7a3",
   "metadata": {},
   "source": [
    "Ok, the answer is _numerically_ correct, but what data type did Python return? "
   ]
  },
  {
   "cell_type": "code",
   "execution_count": 12,
   "id": "0e082de0",
   "metadata": {},
   "outputs": [
    {
     "data": {
      "text/plain": [
       "float"
      ]
     },
     "execution_count": 12,
     "metadata": {},
     "output_type": "execute_result"
    }
   ],
   "source": [
    "type(x/y)"
   ]
  },
  {
   "cell_type": "markdown",
   "id": "8aa357c8",
   "metadata": {},
   "source": [
    "Huh? Let's try something... let's define `xfloat` = 24.0 (a floating point number by definition) and then compare it to `x`:"
   ]
  },
  {
   "cell_type": "code",
   "execution_count": 13,
   "id": "d6315552",
   "metadata": {},
   "outputs": [
    {
     "data": {
      "text/plain": [
       "True"
      ]
     },
     "execution_count": 13,
     "metadata": {},
     "output_type": "execute_result"
    }
   ],
   "source": [
    "xfloat = 24.0\n",
    "\n",
    "(x==xfloat)"
   ]
  },
  {
   "cell_type": "markdown",
   "id": "c94775a8",
   "metadata": {},
   "source": [
    "Hmmmm... let's try one more thing:"
   ]
  },
  {
   "cell_type": "code",
   "execution_count": 15,
   "id": "edf39b15",
   "metadata": {},
   "outputs": [
    {
     "name": "stdout",
     "output_type": "stream",
     "text": [
      "0\n",
      "1\n",
      "2\n",
      "3\n",
      "4\n",
      "5\n",
      "6\n",
      "7\n",
      "8\n",
      "9\n",
      "10\n",
      "11\n",
      "12\n",
      "13\n",
      "14\n",
      "15\n",
      "16\n",
      "17\n",
      "18\n",
      "19\n",
      "20\n",
      "21\n",
      "22\n",
      "23\n"
     ]
    }
   ],
   "source": [
    "for i in range(x):\n",
    "    print(i)"
   ]
  },
  {
   "cell_type": "code",
   "execution_count": 14,
   "id": "70e4a9cb",
   "metadata": {},
   "outputs": [
    {
     "ename": "TypeError",
     "evalue": "'float' object cannot be interpreted as an integer",
     "output_type": "error",
     "traceback": [
      "\u001b[31m---------------------------------------------------------------------------\u001b[39m",
      "\u001b[31mTypeError\u001b[39m                                 Traceback (most recent call last)",
      "\u001b[36mCell\u001b[39m\u001b[36m \u001b[39m\u001b[32mIn[14]\u001b[39m\u001b[32m, line 1\u001b[39m\n\u001b[32m----> \u001b[39m\u001b[32m1\u001b[39m \u001b[38;5;28;01mfor\u001b[39;00m i \u001b[38;5;129;01min\u001b[39;00m \u001b[38;5;28;43mrange\u001b[39;49m\u001b[43m(\u001b[49m\u001b[43mxfloat\u001b[49m\u001b[43m)\u001b[49m:\n\u001b[32m      2\u001b[39m     \u001b[38;5;28mprint\u001b[39m(i)\n",
      "\u001b[31mTypeError\u001b[39m: 'float' object cannot be interpreted as an integer"
     ]
    }
   ],
   "source": [
    "for i in range(xfloat):\n",
    "    print(i)\n",
    "    "
   ]
  },
  {
   "cell_type": "markdown",
   "id": "7211d0aa",
   "metadata": {},
   "source": [
    "Ok, let's try something weird..."
   ]
  },
  {
   "cell_type": "code",
   "execution_count": 16,
   "id": "afbdf299",
   "metadata": {},
   "outputs": [
    {
     "ename": "TypeError",
     "evalue": "unsupported operand type(s) for +: 'int' and 'str'",
     "output_type": "error",
     "traceback": [
      "\u001b[31m---------------------------------------------------------------------------\u001b[39m",
      "\u001b[31mTypeError\u001b[39m                                 Traceback (most recent call last)",
      "\u001b[36mCell\u001b[39m\u001b[36m \u001b[39m\u001b[32mIn[16]\u001b[39m\u001b[32m, line 1\u001b[39m\n\u001b[32m----> \u001b[39m\u001b[32m1\u001b[39m \u001b[43mx\u001b[49m\u001b[43m \u001b[49m\u001b[43m+\u001b[49m\u001b[43m \u001b[49m\u001b[43mchar\u001b[49m\n",
      "\u001b[31mTypeError\u001b[39m: unsupported operand type(s) for +: 'int' and 'str'"
     ]
    }
   ],
   "source": [
    "x + char"
   ]
  },
  {
   "cell_type": "markdown",
   "id": "78ed473a",
   "metadata": {},
   "source": [
    "What does all of this mean?!? And why does it matter?\n",
    "\n",
    "Python is two things:\n",
    "* __Dynamically typed__: The language determines the data type of a variable at runtime, not at compile time (this differs from languages like C and Fortran). It can interpret some operations (like `int` + `float` = `float`) but will throw errors with others that cannot be interpreted (like `int` + `char`). \n",
    "* __Strongly typed__: The language *does* have a strict set of rules regarding type compatibility during certain operations (e.g., our `for` loop required integers as the counting variables).\n"
   ]
  },
  {
   "cell_type": "code",
   "execution_count": 3,
   "id": "316e1140",
   "metadata": {},
   "outputs": [
    {
     "name": "stdout",
     "output_type": "stream",
     "text": [
      "72\n"
     ]
    }
   ],
   "source": [
    "print(x+y)"
   ]
  },
  {
   "cell_type": "code",
   "execution_count": null,
   "id": "aa25a1f9",
   "metadata": {},
   "outputs": [
    {
     "name": "stdout",
     "output_type": "stream",
     "text": [
      "x + y = 72\n"
     ]
    }
   ],
   "source": [
    "print('x + y = ' + str(x+y))"
   ]
  },
  {
   "cell_type": "code",
   "execution_count": 6,
   "id": "a5a38d7b",
   "metadata": {},
   "outputs": [
    {
     "name": "stdout",
     "output_type": "stream",
     "text": [
      "28.2\n"
     ]
    }
   ],
   "source": [
    "print(x+z)"
   ]
  },
  {
   "cell_type": "code",
   "execution_count": 7,
   "id": "dd8339c9",
   "metadata": {},
   "outputs": [
    {
     "name": "stdout",
     "output_type": "stream",
     "text": [
      "x + z = 28.2\n"
     ]
    }
   ],
   "source": [
    "print('x + z = ' + str(x + z))"
   ]
  },
  {
   "cell_type": "code",
   "execution_count": 10,
   "id": "d396ba3a",
   "metadata": {},
   "outputs": [
    {
     "name": "stdout",
     "output_type": "stream",
     "text": [
      "Cappucina Ballerina\n"
     ]
    }
   ],
   "source": [
    "print(char)"
   ]
  },
  {
   "cell_type": "code",
   "execution_count": null,
   "id": "768a67a5",
   "metadata": {},
   "outputs": [
    {
     "name": "stdout",
     "output_type": "stream",
     "text": [
      "Cappucina Ballerina is meme character in the Italian brainrot genre\n"
     ]
    }
   ],
   "source": [
    "print(char+' is a meme character in the Italian brainrot genre')"
   ]
  },
  {
   "cell_type": "markdown",
   "id": "4d93d91e",
   "metadata": {},
   "source": [
    "### F-Strings"
   ]
  },
  {
   "cell_type": "code",
   "execution_count": 8,
   "id": "837a2049",
   "metadata": {},
   "outputs": [
    {
     "name": "stdout",
     "output_type": "stream",
     "text": [
      "x=24, y=48, sum=72\n"
     ]
    }
   ],
   "source": [
    "print(f'x={x}, y={y}, sum={x+y}')"
   ]
  },
  {
   "cell_type": "code",
   "execution_count": 9,
   "id": "bebb62f4",
   "metadata": {},
   "outputs": [
    {
     "name": "stdout",
     "output_type": "stream",
     "text": [
      "x=24, y=48, x+y=72\n"
     ]
    }
   ],
   "source": [
    "print(f'{x=}, {y=}, {x+y=}')"
   ]
  },
  {
   "cell_type": "code",
   "execution_count": 12,
   "id": "af292fb2",
   "metadata": {},
   "outputs": [
    {
     "name": "stdout",
     "output_type": "stream",
     "text": [
      "21.3100000000\n"
     ]
    }
   ],
   "source": [
    "width = 10\n",
    "air_temp = 21.31\n",
    "\n",
    "print(f'{air_temp:.{width}f}')"
   ]
  },
  {
   "cell_type": "code",
   "execution_count": 14,
   "id": "98a038ac",
   "metadata": {},
   "outputs": [
    {
     "name": "stdout",
     "output_type": "stream",
     "text": [
      "Salary is... $421,540,599\n"
     ]
    }
   ],
   "source": [
    "salary = 421540599\n",
    "\n",
    "print(f'Salary is... ${salary:,}')"
   ]
  },
  {
   "cell_type": "code",
   "execution_count": 15,
   "id": "5caac438",
   "metadata": {},
   "outputs": [
    {
     "name": "stdout",
     "output_type": "stream",
     "text": [
      "probability = 55.65%\n"
     ]
    }
   ],
   "source": [
    "probability = 0.5565\n",
    "\n",
    "print(f'probability = {probability:.2%}')"
   ]
  },
  {
   "cell_type": "code",
   "execution_count": 17,
   "id": "46b3e112",
   "metadata": {},
   "outputs": [
    {
     "name": "stdout",
     "output_type": "stream",
     "text": [
      "\n",
      "Name: Stu\n",
      "Age: 46\n",
      "Nickname: Disco\n",
      "\n"
     ]
    }
   ],
   "source": [
    "name = 'Stu'\n",
    "age = 46\n",
    "nickname = 'Disco'\n",
    "\n",
    "info = f'''\n",
    "Name: {name}\n",
    "Age: {age}\n",
    "Nickname: {nickname}\n",
    "'''\n",
    "\n",
    "print(info)"
   ]
  },
  {
   "cell_type": "markdown",
   "id": "92b3181a",
   "metadata": {},
   "source": [
    "### Practical Use Cases\n",
    "\n",
    "#### Debugging Code\n",
    "\n",
    "__Example 1__: I have written a code that computes evapotranspiration using the Penman-Monteith equation. One function (more on this later) in this code takes the air temperature (in °C) and the relative humidity (in %) as input and returns the vapor pressure deficit (VPD). My code keeps returning unrealistic numbers (evapotranspiration values of 3 **meters** per day) and I suspect that there might be an issue with the way that VPD is calculated. To debug my code, I would like to print out the values of air temperature and relative humidity that the function is receiving, and the value of VPD it is returning as output. I can basically identify three potential outcomes of this debugging test:\n",
    "1. The values computed are realistic then the problem lies somewhere else in the code,\n",
    "2. Air temperature and/or relative humidity are not realistic and so the function is somehow not getting the right input, \n",
    "3. The air temperature and relative humidity are realistic but the VPD is not and so there is an error in my computation.\n",
    "\n",
    "The cell below is example code of what this debugging test might look like. For now we'll assume values of air temperature and relative humidity, which excludes outcome 2 above."
   ]
  },
  {
   "cell_type": "code",
   "execution_count": 2,
   "id": "348e9d58",
   "metadata": {},
   "outputs": [
    {
     "name": "stdout",
     "output_type": "stream",
     "text": [
      "\n",
      "VPD calculation debug:\n",
      "airT = 22.3 °C\n",
      "RH = 27.33 %\n",
      "VPD = 1.957 kPa\n",
      "\n"
     ]
    }
   ],
   "source": [
    "import numpy as np # Don't worry about what this is for now\n",
    "\n",
    "# Assume these are the values passed to my code \n",
    "airT = 22.3 # Air temperature in °C\n",
    "RH = 27.33  # Relative humidity in %\n",
    "\n",
    "# Don't worry about these equations\n",
    "esat = 0.6108*np.exp((17.27*airT)/(airT + 237.3)) # Saturation vapor pressure in kPa\n",
    "ea = (RH/100.0)*esat # Actual vapor pressure in kPA\n",
    "\n",
    "VPD = esat - ea # Vapor pressure deficit in kPa\n",
    "\n",
    "# Create output string:\n",
    "vpd_info = f'''\n",
    "VPD calculation debug:\n",
    "airT = {airT} °C\n",
    "RH = {RH} %\n",
    "VPD = {VPD:.{3}f} kPa\n",
    "'''\n",
    "\n",
    "print(vpd_info)\n"
   ]
  },
  {
   "cell_type": "code",
   "execution_count": 9,
   "id": "bc7f7f21",
   "metadata": {},
   "outputs": [
    {
     "name": "stdout",
     "output_type": "stream",
     "text": [
      "precip-2020-01.nc\n",
      "precip-2020-02.nc\n",
      "precip-2020-03.nc\n",
      "precip-2020-04.nc\n",
      "precip-2020-05.nc\n",
      "precip-2020-06.nc\n",
      "precip-2020-07.nc\n",
      "precip-2020-08.nc\n",
      "precip-2020-09.nc\n",
      "precip-2020-10.nc\n",
      "precip-2020-11.nc\n",
      "precip-2020-12.nc\n",
      "precip-2021-01.nc\n",
      "precip-2021-02.nc\n",
      "precip-2021-03.nc\n",
      "precip-2021-04.nc\n",
      "precip-2021-05.nc\n",
      "precip-2021-06.nc\n",
      "precip-2021-07.nc\n",
      "precip-2021-08.nc\n",
      "precip-2021-09.nc\n",
      "precip-2021-10.nc\n",
      "precip-2021-11.nc\n",
      "precip-2021-12.nc\n",
      "precip-2022-01.nc\n",
      "precip-2022-02.nc\n",
      "precip-2022-03.nc\n",
      "precip-2022-04.nc\n",
      "precip-2022-05.nc\n",
      "precip-2022-06.nc\n",
      "precip-2022-07.nc\n",
      "precip-2022-08.nc\n",
      "precip-2022-09.nc\n",
      "precip-2022-10.nc\n",
      "precip-2022-11.nc\n",
      "precip-2022-12.nc\n",
      "precip-2023-01.nc\n",
      "precip-2023-02.nc\n",
      "precip-2023-03.nc\n",
      "precip-2023-04.nc\n",
      "precip-2023-05.nc\n",
      "precip-2023-06.nc\n",
      "precip-2023-07.nc\n",
      "precip-2023-08.nc\n",
      "precip-2023-09.nc\n",
      "precip-2023-10.nc\n",
      "precip-2023-11.nc\n",
      "precip-2023-12.nc\n",
      "precip-2024-01.nc\n",
      "precip-2024-02.nc\n",
      "precip-2024-03.nc\n",
      "precip-2024-04.nc\n",
      "precip-2024-05.nc\n",
      "precip-2024-06.nc\n",
      "precip-2024-07.nc\n",
      "precip-2024-08.nc\n",
      "precip-2024-09.nc\n",
      "precip-2024-10.nc\n",
      "precip-2024-11.nc\n",
      "precip-2024-12.nc\n",
      "precip-2025-01.nc\n",
      "precip-2025-02.nc\n",
      "precip-2025-03.nc\n",
      "precip-2025-04.nc\n",
      "precip-2025-05.nc\n",
      "precip-2025-06.nc\n",
      "precip-2025-07.nc\n",
      "precip-2025-08.nc\n",
      "precip-2025-09.nc\n",
      "precip-2025-10.nc\n",
      "precip-2025-11.nc\n",
      "precip-2025-12.nc\n"
     ]
    }
   ],
   "source": [
    "file_base = 'precip'\n",
    "file_ext = '.nc'\n",
    "\n",
    "months = np.arange(12)+1\n",
    "years = np.linspace(2020, 2025, num=(2025-2020+1), dtype=int, endpoint=True)\n",
    "\n",
    "for yr in years:\n",
    "    for mo in months:\n",
    "        file_name = f'{file_base}-{yr}-{mo:02d}{file_ext}'\n",
    "        print(file_name)\n"
   ]
  },
  {
   "cell_type": "markdown",
   "id": "797058fc",
   "metadata": {},
   "source": [
    "#### Updating Progress"
   ]
  },
  {
   "cell_type": "code",
   "execution_count": null,
   "id": "899afc1a",
   "metadata": {},
   "outputs": [],
   "source": []
  }
 ],
 "metadata": {
  "kernelspec": {
   "display_name": "env",
   "language": "python",
   "name": "python3"
  },
  "language_info": {
   "codemirror_mode": {
    "name": "ipython",
    "version": 3
   },
   "file_extension": ".py",
   "mimetype": "text/x-python",
   "name": "python",
   "nbconvert_exporter": "python",
   "pygments_lexer": "ipython3",
   "version": "3.12.10"
  }
 },
 "nbformat": 4,
 "nbformat_minor": 5
}
