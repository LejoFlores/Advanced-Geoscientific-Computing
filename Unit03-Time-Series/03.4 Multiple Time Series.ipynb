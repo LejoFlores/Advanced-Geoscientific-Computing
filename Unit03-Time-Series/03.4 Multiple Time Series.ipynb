{
 "cells": [
  {
   "cell_type": "code",
   "execution_count": null,
   "id": "26c6c129",
   "metadata": {},
   "outputs": [],
   "source": [
    "from datetime import datetime\n",
    "from dataretrieval import nwis\n",
    "from metloom.pointdata import SnotelPointData\n",
    "from metloom.variables import SnotelVariables\n",
    "\n",
    "import matplotlib.pyplot as plt\n",
    "import numpy as np\n",
    "import pandas as pd\n",
    "\n",
    "startDate = '2000-10-01'\n",
    "endDate = '2025-09-30'\n",
    "\n",
    "startDate_dt = datetime.strptime(startDate, '%Y-%m-%d')\n",
    "endDate_dt = datetime.strptime(endDate, '%Y-%m-%d')\n",
    "\n",
    "boise_river_outp = 'boise_river_snow2flow.csv'\n",
    "\n",
    "# NWIS Variables\n",
    "gage = '13185000' # Boise River Near Twin Springs\n",
    "\n",
    "# Metloom Variables\n",
    "snotel_stn = '830:ID:SNTL' # Trinity Mountain Snotel Station\n",
    "snotel_pnt = SnotelPointData(station_id=snotel_stn, name='TrinityMtn')\n",
    "\n",
    "variables = [snotel_pnt.ALLOWED_VARIABLES.SWE,\n",
    "             snotel_pnt.ALLOWED_VARIABLES.TEMPAVG, \n",
    "             snotel_pnt.ALLOWED_VARIABLES.PRECIPITATION]"
   ]
  },
  {
   "cell_type": "code",
   "execution_count": null,
   "id": "2351c8bb",
   "metadata": {},
   "outputs": [],
   "source": [
    "df_snotel = snotel_pnt.get_daily_data(startDate_dt, endDate_dt, variables)\n",
    "df_snotel"
   ]
  },
  {
   "cell_type": "code",
   "execution_count": null,
   "id": "602ab8f1",
   "metadata": {},
   "outputs": [],
   "source": [
    "df_streamflow = nwis.get_dv(sites=gage, parameterCd='00060', start=startDate, end=endDate)[0]\n",
    "df_streamflow\n"
   ]
  },
  {
   "cell_type": "code",
   "execution_count": null,
   "id": "5ef3f32f",
   "metadata": {},
   "outputs": [],
   "source": [
    "df_snotel['SWE'].plot()\n",
    "df_streamflow['00060_Mean'].plot()"
   ]
  },
  {
   "cell_type": "markdown",
   "id": "72b063c5",
   "metadata": {},
   "source": [
    "1. Create a date range for the combined dataframe\n",
    "2. Get the data from the snotel dataframe\n",
    "3. Convert units from snotel data\n",
    "4. Get the data from the streamflow dataframe\n",
    "5. Convert units for streamflow data\n",
    "6. Export combined dataframe to a csv file (for later)"
   ]
  },
  {
   "cell_type": "code",
   "execution_count": null,
   "id": "cc31fb3b",
   "metadata": {},
   "outputs": [],
   "source": [
    "combined_dt = pd.date_range(start=startDate_dt, end=endDate_dt, freq='1D')\n",
    "combined_dt"
   ]
  },
  {
   "cell_type": "code",
   "execution_count": null,
   "id": "e2f85f99",
   "metadata": {},
   "outputs": [],
   "source": [
    "combined_swe = df_snotel['SWE'].values\n",
    "combined_swe = combined_swe * 25.4 # in to mm conversion\n",
    "\n",
    "combined_tavg = df_snotel['AVG AIR TEMP'].values\n",
    "combined_tavg = (combined_swe - 32.0)*(5/9) # °F to °C conversion\n",
    "\n",
    "combined_prec = df_snotel['PRECIPITATION'].values\n",
    "combined_prec = combined_prec * 25.4 # in to mm conversion"
   ]
  },
  {
   "cell_type": "code",
   "execution_count": null,
   "id": "161aafd0",
   "metadata": {},
   "outputs": [],
   "source": [
    "combined_q = df_streamflow['00060_Mean'].values\n",
    "combined_q = combined_q * (1/(3.2808**3))"
   ]
  },
  {
   "cell_type": "code",
   "execution_count": null,
   "id": "4de18456",
   "metadata": {},
   "outputs": [],
   "source": [
    "combined_data = {\n",
    "    'datetime': combined_dt,\n",
    "    'prec_mm': combined_prec,\n",
    "    'tavg_degc': combined_tavg,\n",
    "    'swe_mm': combined_swe,\n",
    "    'flow_cms': combined_q,\n",
    "}\n"
   ]
  },
  {
   "cell_type": "code",
   "execution_count": null,
   "id": "aeb39e0d",
   "metadata": {},
   "outputs": [],
   "source": [
    "df_combined = pd.DataFrame(combined_data)\n",
    "df_combined = df_combined.set_index('datetime')\n",
    "df_combined.to_csv(boise_river_outp)\n",
    "df_combined"
   ]
  },
  {
   "cell_type": "code",
   "execution_count": null,
   "id": "f8d93dc4",
   "metadata": {},
   "outputs": [],
   "source": [
    "df_combined.plot()"
   ]
  },
  {
   "cell_type": "code",
   "execution_count": null,
   "id": "90a3be0e",
   "metadata": {},
   "outputs": [],
   "source": []
  }
 ],
 "metadata": {
  "kernelspec": {
   "display_name": "env",
   "language": "python",
   "name": "python3"
  },
  "language_info": {
   "codemirror_mode": {
    "name": "ipython",
    "version": 3
   },
   "file_extension": ".py",
   "mimetype": "text/x-python",
   "name": "python",
   "nbconvert_exporter": "python",
   "pygments_lexer": "ipython3",
   "version": "3.12.10"
  }
 },
 "nbformat": 4,
 "nbformat_minor": 5
}
