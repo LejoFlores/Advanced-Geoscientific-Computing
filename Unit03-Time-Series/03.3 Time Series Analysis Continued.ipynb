{
 "cells": [
  {
   "cell_type": "markdown",
   "id": "d5adf034",
   "metadata": {},
   "source": [
    "# Time Series Analysis with Pandas Cont.\n",
    "\n",
    "In hydrology and other Earth and environmental sciences, we're often interested in statistical outliers in our time series data. These often represent extreme values like floods and droughts for which we either need to be designing infrastructure (like bridges and culverts) around or developing management strategies to guard against. Below we explore some of the helpful tools that `Pandas` offers to perform time series analysis. One example involves estimating the 100-year flood in the Boise River, while the other example involves estimating a low-flow metric called the 7Q10 in the Boise River. \n",
    "\n",
    "Let's start by getting a relatively long (>100 years) of daily streamflow record."
   ]
  },
  {
   "cell_type": "code",
   "execution_count": null,
   "id": "9d3f04b8",
   "metadata": {},
   "outputs": [],
   "source": [
    "from dataretrieval import nwis\n",
    "import matplotlib.pyplot as plt\n",
    "import numpy as np\n",
    "import pandas as pd\n",
    "\n",
    "startDate = '1920-01-01'\n",
    "endDate = '2024-12-31'\n",
    "\n",
    "gage = '13185000' # Boise River Near Twin Springs\n",
    "\n",
    "BoiseRiverQ = nwis.get_dv(sites=gage, parameterCd='00060', start=startDate, end=endDate)[0]\n",
    "BoiseRiverQ['00060_Mean'].plot()\n",
    "plt.xlabel('Date')\n",
    "plt.ylabel('Flow [ft\\u00b3/s]')\n",
    "plt.show()"
   ]
  },
  {
   "cell_type": "markdown",
   "id": "26e643cb",
   "metadata": {},
   "source": [
    "## Annual Maximum Series for Flood Estimation\n",
    "\n",
    "There are a number of ways to estimate the 100-year flood, but by definition it is the maximum annual daily flow that is equaled or exceeded (on average) no more than once every 100 years. We will use a relatively straightforward, non-parametric method called the Weibull plotting position formula. The Weibull plotting method involves assigning a non-exceedance probability to every annual maximum flow, based on its rank order. The Weibull probability for each annual maximum flow is calculated as:\n",
    "\n",
    "$$\n",
    "P_{NE} = \\frac{r}{N + 1}\n",
    "$$\n",
    "\n",
    "where $r$ is the rank of that flow in the annual maximum series, and $N$ is the number of years in the analyzed data record. So, first we need to get the annual maximum series using the helpful `.groupby()` method:"
   ]
  },
  {
   "cell_type": "code",
   "execution_count": null,
   "id": "7273ff55",
   "metadata": {},
   "outputs": [],
   "source": [
    "BR_AnnMaxQ = BoiseRiverQ['00060_Mean'].groupby(BoiseRiverQ.index.year).max().values\n",
    "BR_AnnMaxQ"
   ]
  },
  {
   "cell_type": "markdown",
   "id": "6c8020ff",
   "metadata": {},
   "source": [
    "Next, we need to sort these annual maximum streamflows:"
   ]
  },
  {
   "cell_type": "code",
   "execution_count": null,
   "id": "9a0411a9",
   "metadata": {},
   "outputs": [],
   "source": [
    "BR_AnnMaxQsort = np.sort(BR_AnnMaxQ)\n",
    "BR_AnnMaxQsort"
   ]
  },
  {
   "cell_type": "markdown",
   "id": "8e90571a",
   "metadata": {},
   "source": [
    "Now, we compute a Weibull plotting position non-exceedance probability. Note that the calculation of this probability does __not__ involve the annual maximum flow itself.  "
   ]
  },
  {
   "cell_type": "code",
   "execution_count": null,
   "id": "6cf10536",
   "metadata": {},
   "outputs": [],
   "source": [
    "BR_weibull =(np.arange(BR_AnnMaxQsort.size) + 1)/(BR_AnnMaxQsort.size + 1)\n",
    "BR_weibull"
   ]
  },
  {
   "cell_type": "markdown",
   "id": "b6f7b84d",
   "metadata": {},
   "source": [
    "What does involve the annual maximum flows is how we plot the Weibull probabilities and the annual maximum values. Here, we plot the annual maximum values on the x-axis and the Weibull probability on the y-axis. Note we are plotting $1 - P_{NE}$, which is the __exceedance__ probability. We can then use this plot to read off, or interpolate for the value that is equalled or exceeded in only 1 out of 100 years, on average. "
   ]
  },
  {
   "cell_type": "code",
   "execution_count": null,
   "id": "ba410157",
   "metadata": {},
   "outputs": [],
   "source": [
    "fig = plt.figure(figsize=(12,10))\n",
    "plt.rcParams.update({'font.size': 14})\n",
    "plt.plot(BR_AnnMaxQsort, 1-BR_weibull,'k.')\n",
    "plt.hlines(0.01, xmin=1000, xmax=BR_AnnMaxQsort.max(), colors='r')\n",
    "plt.title('Boise River 100-year Return Period Flood Estimation')\n",
    "plt.xlabel('Annual Maximum Streamflow [ft\\u00b3/s]')\n",
    "plt.ylabel('Exceedance Probability')\n",
    "plt.grid(':')\n",
    "plt.show()\n"
   ]
  },
  {
   "cell_type": "markdown",
   "id": "53a65462",
   "metadata": {},
   "source": [
    "## Boise River 7Q10 Estimation\n",
    "\n",
    "The so-called 7Q10 is a streamflow time series metric that is often used to assess ecological risk for aquatic ecosystems. It has been shown to correlate with the occurrence of fish kills and other negative habitat occurrences. By definition the 7Q10 is the annual minimum 7-day average flow that occurs, on average, once every 10 years. Explicitly turning this into a set of instructions that we need to perform on a time series of daily streamflow data, we need to:\n",
    "\n",
    "1. Compute the 7-day running average streamflow,\n",
    "2. Find the minimum value for every year of record,\n",
    "3. Perform a frequency analysis to determine the corresponding 7-day average annual minimum that occurs once every 10 years\n",
    "\n",
    "In practice, this only differs from the flood frequency analysis in that we're interested in: (1) annual minimums of (2) 7-day running average streamflow. For the latter point, fortunately `Pandas` offers us the `.rolling()` method."
   ]
  },
  {
   "cell_type": "code",
   "execution_count": null,
   "id": "3bf4eba7",
   "metadata": {},
   "outputs": [],
   "source": [
    "BR_7dayAnnMinQ = BoiseRiverQ['00060_Mean'].rolling(window=7).mean().groupby(BoiseRiverQ.index.year).min().values\n",
    "BR_7dayAnnMinQ"
   ]
  },
  {
   "cell_type": "markdown",
   "id": "cf5e3101",
   "metadata": {},
   "source": [
    "Again, let's sort these, although it's not strictly necessary for the method we'll use. "
   ]
  },
  {
   "cell_type": "code",
   "execution_count": null,
   "id": "0a755fe8",
   "metadata": {},
   "outputs": [],
   "source": [
    "BR_7dayAnnMinQsort = np.sort(BR_7dayAnnMinQ)\n",
    "BR_7dayAnnMinQsort"
   ]
  },
  {
   "cell_type": "markdown",
   "id": "9dd27f8d",
   "metadata": {},
   "source": [
    "Let's use a histogram to get the empirical density and cumulative density functions."
   ]
  },
  {
   "cell_type": "code",
   "execution_count": null,
   "id": "1ac04c46",
   "metadata": {},
   "outputs": [],
   "source": [
    "[count, qbins_edge] = np.histogram(BR_7dayAnnMinQsort, bins=25)"
   ]
  },
  {
   "cell_type": "markdown",
   "id": "2943b836",
   "metadata": {},
   "source": [
    "Use the histogram information to get the cumulative density function:"
   ]
  },
  {
   "cell_type": "code",
   "execution_count": null,
   "id": "4857030c",
   "metadata": {},
   "outputs": [],
   "source": [
    "CDF_7qAnnMin = count.cumsum()/count.sum()\n",
    "CDF_7qAnnMin"
   ]
  },
  {
   "cell_type": "markdown",
   "id": "1ea0ade6",
   "metadata": {},
   "source": [
    "Compute the bin centers:"
   ]
  },
  {
   "cell_type": "code",
   "execution_count": null,
   "id": "2cb440ad",
   "metadata": {},
   "outputs": [],
   "source": [
    "qbins_ctr = (qbins_edge[0:-1] + qbins_edge[1:])/2"
   ]
  },
  {
   "cell_type": "markdown",
   "id": "ef441345",
   "metadata": {},
   "source": [
    "Plot the result and mark the 10% non-exceedence probability. "
   ]
  },
  {
   "cell_type": "code",
   "execution_count": null,
   "id": "488aeba6",
   "metadata": {},
   "outputs": [],
   "source": [
    "fig = plt.figure(figsize=(12,10))\n",
    "plt.rcParams.update({'font.size': 14})\n",
    "plt.plot(qbins_ctr, CDF_7qAnnMin,'k-')\n",
    "plt.hlines(0.1, xmin=150, xmax=qbins_edge.max(), colors='r')\n",
    "plt.title('Boise River 7Q10 Estimation')\n",
    "plt.xlabel('7-day Average Minimum Streamflow [ft\\u00b3/s]')\n",
    "plt.ylabel('Non-Exceedance Probability')\n",
    "plt.grid(':')\n",
    "plt.show()"
   ]
  },
  {
   "cell_type": "code",
   "execution_count": null,
   "id": "1a16c075",
   "metadata": {},
   "outputs": [],
   "source": []
  }
 ],
 "metadata": {
  "kernelspec": {
   "display_name": "env",
   "language": "python",
   "name": "python3"
  },
  "language_info": {
   "codemirror_mode": {
    "name": "ipython",
    "version": 3
   },
   "file_extension": ".py",
   "mimetype": "text/x-python",
   "name": "python",
   "nbconvert_exporter": "python",
   "pygments_lexer": "ipython3",
   "version": "3.12.10"
  }
 },
 "nbformat": 4,
 "nbformat_minor": 5
}
