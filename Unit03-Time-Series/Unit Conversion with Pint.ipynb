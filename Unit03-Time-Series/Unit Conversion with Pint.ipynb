{
 "cells": [
  {
   "cell_type": "code",
   "execution_count": 7,
   "id": "ec9e70db",
   "metadata": {},
   "outputs": [],
   "source": [
    "from pint import UnitRegistry\n",
    "\n",
    "ureg = UnitRegistry()"
   ]
  },
  {
   "cell_type": "code",
   "execution_count": 8,
   "id": "009e2959",
   "metadata": {},
   "outputs": [
    {
     "name": "stdout",
     "output_type": "stream",
     "text": [
      "Original flow: 12000.00 ft³/s\n"
     ]
    }
   ],
   "source": [
    "flow_cfs = 12000.0*ureg.ft**3/ureg.s\n",
    "print(f'Original flow: {flow_cfs:.2f~P}')"
   ]
  },
  {
   "cell_type": "code",
   "execution_count": 9,
   "id": "73f2b0f6",
   "metadata": {},
   "outputs": [
    {
     "name": "stdout",
     "output_type": "stream",
     "text": [
      "Converted flow: 339.80 m³/s\n"
     ]
    }
   ],
   "source": [
    "flow_cms = flow_cfs.to(ureg.m**3/ureg.s)\n",
    "print(f'Converted flow: {flow_cms:.2f~P}')"
   ]
  },
  {
   "cell_type": "code",
   "execution_count": 13,
   "id": "9e8828f8",
   "metadata": {},
   "outputs": [
    {
     "name": "stdout",
     "output_type": "stream",
     "text": [
      "\n",
      "Conversions:\n",
      "Original flow rate: 12000.00 ft³/s\n",
      "Converted flow rate (by hand): 339.80 m³/s\n",
      "Same as using Pint? \n",
      "\n"
     ]
    }
   ],
   "source": [
    "## By Hand Way: \n",
    "flow_cfs_os = 12000.0\n",
    "flow_cms_os = flow_cfs_os / (3.28084**3)\n",
    "\n",
    "os_uconversion_text = f'''\n",
    "Conversions:\n",
    "Original flow rate: {flow_cfs_os:.2f} ft\\u00b3/s\n",
    "Converted flow rate (by hand): {flow_cms_os:.2f} m\\u00b3/s\n",
    "Same as using Pint? \n",
    "'''\n",
    "\n",
    "print(os_uconversion_text)"
   ]
  },
  {
   "cell_type": "code",
   "execution_count": 11,
   "id": "2872c428",
   "metadata": {},
   "outputs": [
    {
     "name": "stdout",
     "output_type": "stream",
     "text": [
      "Converted flow: 23801.51 acre_foot/d\n"
     ]
    }
   ],
   "source": [
    "flow_afd = flow_cfs.to(ureg.acre_feet/ureg.day)\n",
    "print(f'Converted flow: {flow_afd:.2f~P}')"
   ]
  },
  {
   "cell_type": "code",
   "execution_count": 14,
   "id": "2ac26c7e",
   "metadata": {},
   "outputs": [
    {
     "name": "stdout",
     "output_type": "stream",
     "text": [
      "3 batches of a recipe calls for: 6.00 tsp\n"
     ]
    }
   ],
   "source": [
    "smoked_paprika = 1.0 * ureg.teaspoon\n",
    "print(f'3 batches of a recipe calls for: {6*smoked_paprika:.2f~P}')"
   ]
  },
  {
   "cell_type": "code",
   "execution_count": 16,
   "id": "0a589d90",
   "metadata": {},
   "outputs": [
    {
     "name": "stdout",
     "output_type": "stream",
     "text": [
      "Instead use: 2.00 tbsp\n"
     ]
    }
   ],
   "source": [
    "print(f'Instead use: {6*smoked_paprika.to(ureg.tablespoon):.2f~P}')"
   ]
  },
  {
   "cell_type": "code",
   "execution_count": null,
   "id": "da3eaf54",
   "metadata": {},
   "outputs": [
    {
     "name": "stdout",
     "output_type": "stream",
     "text": [
      "Well, 3.6 roentgen/h, that's not great, but it's not terrible\n"
     ]
    }
   ],
   "source": [
    "chern_rad = 3.6 * ureg.roentgen / ureg.hour\n",
    "print(f'Ok, {chern_rad:~P}, that\\'s not great, but it\\'s not terrible')"
   ]
  },
  {
   "cell_type": "code",
   "execution_count": null,
   "id": "83ce624a",
   "metadata": {},
   "outputs": [],
   "source": []
  }
 ],
 "metadata": {
  "kernelspec": {
   "display_name": "env",
   "language": "python",
   "name": "python3"
  },
  "language_info": {
   "codemirror_mode": {
    "name": "ipython",
    "version": 3
   },
   "file_extension": ".py",
   "mimetype": "text/x-python",
   "name": "python",
   "nbconvert_exporter": "python",
   "pygments_lexer": "ipython3",
   "version": "3.12.10"
  }
 },
 "nbformat": 4,
 "nbformat_minor": 5
}
